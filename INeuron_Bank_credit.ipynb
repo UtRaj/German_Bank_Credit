{
  "cells": [
    {
      "cell_type": "markdown",
      "metadata": {
        "id": "wsbaHnJ1WWRS"
      },
      "source": [
        "###**1. Importing Libraries for reading data**\n"
      ]
    },
    {
      "cell_type": "code",
      "execution_count": 1,
      "metadata": {
        "id": "JMhX-1pkVdVc"
      },
      "outputs": [],
      "source": [
        "import numpy as np\n",
        "import pandas as pd\n",
        "import matplotlib.pyplot as plt\n",
        "import seaborn as sns\n",
        "import logging"
      ]
    },
    {
      "cell_type": "code",
      "execution_count": 2,
      "metadata": {
        "id": "naTIbAEaMJDd"
      },
      "outputs": [],
      "source": [
        "# Set the logging configuration\n",
        "logging.basicConfig(filename='credit_risk_analysis.log', level=logging.DEBUG,\n",
        "                    format='%(asctime)s - %(levelname)s - %(message)s')\n",
        "\n",
        "# Logging the start of the script\n",
        "logging.info(\"Starting the credit risk analysis script.\")"
      ]
    },
    {
      "cell_type": "code",
      "execution_count": 3,
      "metadata": {
        "id": "6TgGd0-jakZ6"
      },
      "outputs": [],
      "source": [
        "bank = pd.read_csv(\"/content/german_credit.csv\")\n"
      ]
    },
    {
      "cell_type": "code",
      "execution_count": 4,
      "metadata": {
        "id": "3iw2miAQapfq"
      },
      "outputs": [],
      "source": [
        "# Logging the data reading success\n",
        "logging.info(\"Data successfully loaded.\")"
      ]
    },
    {
      "cell_type": "code",
      "execution_count": 5,
      "metadata": {
        "colab": {
          "base_uri": "https://localhost:8080/",
          "height": 473
        },
        "id": "TtZp2kVtVjZu",
        "outputId": "2ecde5ea-9c70-4fb2-fbc4-f67527bba65a"
      },
      "outputs": [
        {
          "data": {
            "text/html": [
              "\n",
              "\n",
              "  <div id=\"df-9cae8c0b-9377-470e-9fda-fe90ff554ace\">\n",
              "    <div class=\"colab-df-container\">\n",
              "      <div>\n",
              "<style scoped>\n",
              "    .dataframe tbody tr th:only-of-type {\n",
              "        vertical-align: middle;\n",
              "    }\n",
              "\n",
              "    .dataframe tbody tr th {\n",
              "        vertical-align: top;\n",
              "    }\n",
              "\n",
              "    .dataframe thead th {\n",
              "        text-align: right;\n",
              "    }\n",
              "</style>\n",
              "<table border=\"1\" class=\"dataframe\">\n",
              "  <thead>\n",
              "    <tr style=\"text-align: right;\">\n",
              "      <th></th>\n",
              "      <th>status</th>\n",
              "      <th>duration</th>\n",
              "      <th>credit_history</th>\n",
              "      <th>purpose</th>\n",
              "      <th>amount</th>\n",
              "      <th>savings</th>\n",
              "      <th>employment_duration</th>\n",
              "      <th>installment_rate</th>\n",
              "      <th>personal_status_sex</th>\n",
              "      <th>other_debtors</th>\n",
              "      <th>...</th>\n",
              "      <th>property</th>\n",
              "      <th>age</th>\n",
              "      <th>other_installment_plans</th>\n",
              "      <th>housing</th>\n",
              "      <th>number_credits</th>\n",
              "      <th>job</th>\n",
              "      <th>people_liable</th>\n",
              "      <th>telephone</th>\n",
              "      <th>foreign_worker</th>\n",
              "      <th>credit_risk</th>\n",
              "    </tr>\n",
              "  </thead>\n",
              "  <tbody>\n",
              "    <tr>\n",
              "      <th>0</th>\n",
              "      <td>no checking account</td>\n",
              "      <td>18</td>\n",
              "      <td>all credits at this bank paid back duly</td>\n",
              "      <td>car (used)</td>\n",
              "      <td>1049</td>\n",
              "      <td>unknown/no savings account</td>\n",
              "      <td>&lt; 1 yr</td>\n",
              "      <td>&lt; 20</td>\n",
              "      <td>female : non-single or male : single</td>\n",
              "      <td>none</td>\n",
              "      <td>...</td>\n",
              "      <td>car or other</td>\n",
              "      <td>21</td>\n",
              "      <td>none</td>\n",
              "      <td>for free</td>\n",
              "      <td>1</td>\n",
              "      <td>skilled employee/official</td>\n",
              "      <td>0 to 2</td>\n",
              "      <td>no</td>\n",
              "      <td>no</td>\n",
              "      <td>good</td>\n",
              "    </tr>\n",
              "    <tr>\n",
              "      <th>1</th>\n",
              "      <td>no checking account</td>\n",
              "      <td>9</td>\n",
              "      <td>all credits at this bank paid back duly</td>\n",
              "      <td>others</td>\n",
              "      <td>2799</td>\n",
              "      <td>unknown/no savings account</td>\n",
              "      <td>1 &lt;= ... &lt; 4 yrs</td>\n",
              "      <td>25 &lt;= ... &lt; 35</td>\n",
              "      <td>male : married/widowed</td>\n",
              "      <td>none</td>\n",
              "      <td>...</td>\n",
              "      <td>unknown / no property</td>\n",
              "      <td>36</td>\n",
              "      <td>none</td>\n",
              "      <td>for free</td>\n",
              "      <td>3-Feb</td>\n",
              "      <td>skilled employee/official</td>\n",
              "      <td>3 or more</td>\n",
              "      <td>no</td>\n",
              "      <td>no</td>\n",
              "      <td>good</td>\n",
              "    </tr>\n",
              "    <tr>\n",
              "      <th>2</th>\n",
              "      <td>... &lt; 0 DM</td>\n",
              "      <td>12</td>\n",
              "      <td>no credits taken/all credits paid back duly</td>\n",
              "      <td>retraining</td>\n",
              "      <td>841</td>\n",
              "      <td>... &lt;  100 DM</td>\n",
              "      <td>4 &lt;= ... &lt; 7 yrs</td>\n",
              "      <td>25 &lt;= ... &lt; 35</td>\n",
              "      <td>female : non-single or male : single</td>\n",
              "      <td>none</td>\n",
              "      <td>...</td>\n",
              "      <td>unknown / no property</td>\n",
              "      <td>23</td>\n",
              "      <td>none</td>\n",
              "      <td>for free</td>\n",
              "      <td>1</td>\n",
              "      <td>unskilled - resident</td>\n",
              "      <td>0 to 2</td>\n",
              "      <td>no</td>\n",
              "      <td>no</td>\n",
              "      <td>good</td>\n",
              "    </tr>\n",
              "    <tr>\n",
              "      <th>3</th>\n",
              "      <td>no checking account</td>\n",
              "      <td>12</td>\n",
              "      <td>all credits at this bank paid back duly</td>\n",
              "      <td>others</td>\n",
              "      <td>2122</td>\n",
              "      <td>unknown/no savings account</td>\n",
              "      <td>1 &lt;= ... &lt; 4 yrs</td>\n",
              "      <td>20 &lt;= ... &lt; 25</td>\n",
              "      <td>male : married/widowed</td>\n",
              "      <td>none</td>\n",
              "      <td>...</td>\n",
              "      <td>unknown / no property</td>\n",
              "      <td>39</td>\n",
              "      <td>none</td>\n",
              "      <td>for free</td>\n",
              "      <td>3-Feb</td>\n",
              "      <td>unskilled - resident</td>\n",
              "      <td>3 or more</td>\n",
              "      <td>no</td>\n",
              "      <td>yes</td>\n",
              "      <td>good</td>\n",
              "    </tr>\n",
              "    <tr>\n",
              "      <th>4</th>\n",
              "      <td>no checking account</td>\n",
              "      <td>12</td>\n",
              "      <td>all credits at this bank paid back duly</td>\n",
              "      <td>others</td>\n",
              "      <td>2171</td>\n",
              "      <td>unknown/no savings account</td>\n",
              "      <td>1 &lt;= ... &lt; 4 yrs</td>\n",
              "      <td>&lt; 20</td>\n",
              "      <td>male : married/widowed</td>\n",
              "      <td>none</td>\n",
              "      <td>...</td>\n",
              "      <td>car or other</td>\n",
              "      <td>38</td>\n",
              "      <td>bank</td>\n",
              "      <td>rent</td>\n",
              "      <td>3-Feb</td>\n",
              "      <td>unskilled - resident</td>\n",
              "      <td>0 to 2</td>\n",
              "      <td>no</td>\n",
              "      <td>yes</td>\n",
              "      <td>good</td>\n",
              "    </tr>\n",
              "  </tbody>\n",
              "</table>\n",
              "<p>5 rows × 21 columns</p>\n",
              "</div>\n",
              "      <button class=\"colab-df-convert\" onclick=\"convertToInteractive('df-9cae8c0b-9377-470e-9fda-fe90ff554ace')\"\n",
              "              title=\"Convert this dataframe to an interactive table.\"\n",
              "              style=\"display:none;\">\n",
              "\n",
              "  <svg xmlns=\"http://www.w3.org/2000/svg\" height=\"24px\"viewBox=\"0 0 24 24\"\n",
              "       width=\"24px\">\n",
              "    <path d=\"M0 0h24v24H0V0z\" fill=\"none\"/>\n",
              "    <path d=\"M18.56 5.44l.94 2.06.94-2.06 2.06-.94-2.06-.94-.94-2.06-.94 2.06-2.06.94zm-11 1L8.5 8.5l.94-2.06 2.06-.94-2.06-.94L8.5 2.5l-.94 2.06-2.06.94zm10 10l.94 2.06.94-2.06 2.06-.94-2.06-.94-.94-2.06-.94 2.06-2.06.94z\"/><path d=\"M17.41 7.96l-1.37-1.37c-.4-.4-.92-.59-1.43-.59-.52 0-1.04.2-1.43.59L10.3 9.45l-7.72 7.72c-.78.78-.78 2.05 0 2.83L4 21.41c.39.39.9.59 1.41.59.51 0 1.02-.2 1.41-.59l7.78-7.78 2.81-2.81c.8-.78.8-2.07 0-2.86zM5.41 20L4 18.59l7.72-7.72 1.47 1.35L5.41 20z\"/>\n",
              "  </svg>\n",
              "      </button>\n",
              "\n",
              "\n",
              "\n",
              "    <div id=\"df-3690e289-cd26-4f38-b8c0-604716039c82\">\n",
              "      <button class=\"colab-df-quickchart\" onclick=\"quickchart('df-3690e289-cd26-4f38-b8c0-604716039c82')\"\n",
              "              title=\"Suggest charts.\"\n",
              "              style=\"display:none;\">\n",
              "\n",
              "<svg xmlns=\"http://www.w3.org/2000/svg\" height=\"24px\"viewBox=\"0 0 24 24\"\n",
              "     width=\"24px\">\n",
              "    <g>\n",
              "        <path d=\"M19 3H5c-1.1 0-2 .9-2 2v14c0 1.1.9 2 2 2h14c1.1 0 2-.9 2-2V5c0-1.1-.9-2-2-2zM9 17H7v-7h2v7zm4 0h-2V7h2v10zm4 0h-2v-4h2v4z\"/>\n",
              "    </g>\n",
              "</svg>\n",
              "      </button>\n",
              "    </div>\n",
              "\n",
              "<style>\n",
              "  .colab-df-quickchart {\n",
              "    background-color: #E8F0FE;\n",
              "    border: none;\n",
              "    border-radius: 50%;\n",
              "    cursor: pointer;\n",
              "    display: none;\n",
              "    fill: #1967D2;\n",
              "    height: 32px;\n",
              "    padding: 0 0 0 0;\n",
              "    width: 32px;\n",
              "  }\n",
              "\n",
              "  .colab-df-quickchart:hover {\n",
              "    background-color: #E2EBFA;\n",
              "    box-shadow: 0px 1px 2px rgba(60, 64, 67, 0.3), 0px 1px 3px 1px rgba(60, 64, 67, 0.15);\n",
              "    fill: #174EA6;\n",
              "  }\n",
              "\n",
              "  [theme=dark] .colab-df-quickchart {\n",
              "    background-color: #3B4455;\n",
              "    fill: #D2E3FC;\n",
              "  }\n",
              "\n",
              "  [theme=dark] .colab-df-quickchart:hover {\n",
              "    background-color: #434B5C;\n",
              "    box-shadow: 0px 1px 3px 1px rgba(0, 0, 0, 0.15);\n",
              "    filter: drop-shadow(0px 1px 2px rgba(0, 0, 0, 0.3));\n",
              "    fill: #FFFFFF;\n",
              "  }\n",
              "</style>\n",
              "\n",
              "    <script>\n",
              "      async function quickchart(key) {\n",
              "        const containerElement = document.querySelector('#' + key);\n",
              "        const charts = await google.colab.kernel.invokeFunction(\n",
              "            'suggestCharts', [key], {});\n",
              "      }\n",
              "    </script>\n",
              "\n",
              "      <script>\n",
              "\n",
              "function displayQuickchartButton(domScope) {\n",
              "  let quickchartButtonEl =\n",
              "    domScope.querySelector('#df-3690e289-cd26-4f38-b8c0-604716039c82 button.colab-df-quickchart');\n",
              "  quickchartButtonEl.style.display =\n",
              "    google.colab.kernel.accessAllowed ? 'block' : 'none';\n",
              "}\n",
              "\n",
              "        displayQuickchartButton(document);\n",
              "      </script>\n",
              "      <style>\n",
              "    .colab-df-container {\n",
              "      display:flex;\n",
              "      flex-wrap:wrap;\n",
              "      gap: 12px;\n",
              "    }\n",
              "\n",
              "    .colab-df-convert {\n",
              "      background-color: #E8F0FE;\n",
              "      border: none;\n",
              "      border-radius: 50%;\n",
              "      cursor: pointer;\n",
              "      display: none;\n",
              "      fill: #1967D2;\n",
              "      height: 32px;\n",
              "      padding: 0 0 0 0;\n",
              "      width: 32px;\n",
              "    }\n",
              "\n",
              "    .colab-df-convert:hover {\n",
              "      background-color: #E2EBFA;\n",
              "      box-shadow: 0px 1px 2px rgba(60, 64, 67, 0.3), 0px 1px 3px 1px rgba(60, 64, 67, 0.15);\n",
              "      fill: #174EA6;\n",
              "    }\n",
              "\n",
              "    [theme=dark] .colab-df-convert {\n",
              "      background-color: #3B4455;\n",
              "      fill: #D2E3FC;\n",
              "    }\n",
              "\n",
              "    [theme=dark] .colab-df-convert:hover {\n",
              "      background-color: #434B5C;\n",
              "      box-shadow: 0px 1px 3px 1px rgba(0, 0, 0, 0.15);\n",
              "      filter: drop-shadow(0px 1px 2px rgba(0, 0, 0, 0.3));\n",
              "      fill: #FFFFFF;\n",
              "    }\n",
              "  </style>\n",
              "\n",
              "      <script>\n",
              "        const buttonEl =\n",
              "          document.querySelector('#df-9cae8c0b-9377-470e-9fda-fe90ff554ace button.colab-df-convert');\n",
              "        buttonEl.style.display =\n",
              "          google.colab.kernel.accessAllowed ? 'block' : 'none';\n",
              "\n",
              "        async function convertToInteractive(key) {\n",
              "          const element = document.querySelector('#df-9cae8c0b-9377-470e-9fda-fe90ff554ace');\n",
              "          const dataTable =\n",
              "            await google.colab.kernel.invokeFunction('convertToInteractive',\n",
              "                                                     [key], {});\n",
              "          if (!dataTable) return;\n",
              "\n",
              "          const docLinkHtml = 'Like what you see? Visit the ' +\n",
              "            '<a target=\"_blank\" href=https://colab.research.google.com/notebooks/data_table.ipynb>data table notebook</a>'\n",
              "            + ' to learn more about interactive tables.';\n",
              "          element.innerHTML = '';\n",
              "          dataTable['output_type'] = 'display_data';\n",
              "          await google.colab.output.renderOutput(dataTable, element);\n",
              "          const docLink = document.createElement('div');\n",
              "          docLink.innerHTML = docLinkHtml;\n",
              "          element.appendChild(docLink);\n",
              "        }\n",
              "      </script>\n",
              "    </div>\n",
              "  </div>\n"
            ],
            "text/plain": [
              "                status  duration                               credit_history  \\\n",
              "0  no checking account        18      all credits at this bank paid back duly   \n",
              "1  no checking account         9      all credits at this bank paid back duly   \n",
              "2           ... < 0 DM        12  no credits taken/all credits paid back duly   \n",
              "3  no checking account        12      all credits at this bank paid back duly   \n",
              "4  no checking account        12      all credits at this bank paid back duly   \n",
              "\n",
              "      purpose  amount                     savings employment_duration  \\\n",
              "0  car (used)    1049  unknown/no savings account              < 1 yr   \n",
              "1      others    2799  unknown/no savings account    1 <= ... < 4 yrs   \n",
              "2  retraining     841               ... <  100 DM    4 <= ... < 7 yrs   \n",
              "3      others    2122  unknown/no savings account    1 <= ... < 4 yrs   \n",
              "4      others    2171  unknown/no savings account    1 <= ... < 4 yrs   \n",
              "\n",
              "  installment_rate                   personal_status_sex other_debtors  ...  \\\n",
              "0             < 20  female : non-single or male : single          none  ...   \n",
              "1   25 <= ... < 35                male : married/widowed          none  ...   \n",
              "2   25 <= ... < 35  female : non-single or male : single          none  ...   \n",
              "3   20 <= ... < 25                male : married/widowed          none  ...   \n",
              "4             < 20                male : married/widowed          none  ...   \n",
              "\n",
              "                property age  other_installment_plans   housing  \\\n",
              "0           car or other  21                     none  for free   \n",
              "1  unknown / no property  36                     none  for free   \n",
              "2  unknown / no property  23                     none  for free   \n",
              "3  unknown / no property  39                     none  for free   \n",
              "4           car or other  38                     bank      rent   \n",
              "\n",
              "  number_credits                        job people_liable telephone  \\\n",
              "0              1  skilled employee/official        0 to 2        no   \n",
              "1          3-Feb  skilled employee/official     3 or more        no   \n",
              "2              1       unskilled - resident        0 to 2        no   \n",
              "3          3-Feb       unskilled - resident     3 or more        no   \n",
              "4          3-Feb       unskilled - resident        0 to 2        no   \n",
              "\n",
              "  foreign_worker credit_risk  \n",
              "0             no        good  \n",
              "1             no        good  \n",
              "2             no        good  \n",
              "3            yes        good  \n",
              "4            yes        good  \n",
              "\n",
              "[5 rows x 21 columns]"
            ]
          },
          "execution_count": 5,
          "metadata": {},
          "output_type": "execute_result"
        }
      ],
      "source": [
        "bank.head()"
      ]
    },
    {
      "cell_type": "markdown",
      "metadata": {
        "id": "ei41Il-opgYc"
      },
      "source": [
        "### **2. Exploratory Data Analysis**"
      ]
    },
    {
      "cell_type": "code",
      "execution_count": 6,
      "metadata": {
        "id": "lLrDE10EM3fa"
      },
      "outputs": [],
      "source": [
        "# Logging the Data Exploratory Analysis initiation\n",
        "logging.info(\"Data Exploratory Analysis started.\")"
      ]
    },
    {
      "cell_type": "code",
      "execution_count": 7,
      "metadata": {
        "colab": {
          "base_uri": "https://localhost:8080/"
        },
        "id": "2ldY7MSwVrBU",
        "outputId": "25049733-0f44-4356-8612-86bce1f67f08"
      },
      "outputs": [
        {
          "data": {
            "text/plain": [
              "(1000, 21)"
            ]
          },
          "execution_count": 7,
          "metadata": {},
          "output_type": "execute_result"
        }
      ],
      "source": [
        "bank.shape"
      ]
    },
    {
      "cell_type": "code",
      "execution_count": 8,
      "metadata": {
        "colab": {
          "base_uri": "https://localhost:8080/"
        },
        "id": "Cn4tygxDXWkU",
        "outputId": "e388bad3-c08c-44a8-c42d-23762f5b13b0"
      },
      "outputs": [
        {
          "name": "stdout",
          "output_type": "stream",
          "text": [
            "<class 'pandas.core.frame.DataFrame'>\n",
            "RangeIndex: 1000 entries, 0 to 999\n",
            "Data columns (total 21 columns):\n",
            " #   Column                   Non-Null Count  Dtype \n",
            "---  ------                   --------------  ----- \n",
            " 0   status                   1000 non-null   object\n",
            " 1   duration                 1000 non-null   int64 \n",
            " 2   credit_history           1000 non-null   object\n",
            " 3   purpose                  1000 non-null   object\n",
            " 4   amount                   1000 non-null   int64 \n",
            " 5   savings                  1000 non-null   object\n",
            " 6   employment_duration      1000 non-null   object\n",
            " 7   installment_rate         1000 non-null   object\n",
            " 8   personal_status_sex      1000 non-null   object\n",
            " 9   other_debtors            1000 non-null   object\n",
            " 10  present_residence        1000 non-null   object\n",
            " 11  property                 1000 non-null   object\n",
            " 12  age                      1000 non-null   int64 \n",
            " 13  other_installment_plans  1000 non-null   object\n",
            " 14  housing                  1000 non-null   object\n",
            " 15  number_credits           1000 non-null   object\n",
            " 16  job                      1000 non-null   object\n",
            " 17  people_liable            1000 non-null   object\n",
            " 18  telephone                1000 non-null   object\n",
            " 19  foreign_worker           1000 non-null   object\n",
            " 20  credit_risk              1000 non-null   object\n",
            "dtypes: int64(3), object(18)\n",
            "memory usage: 164.2+ KB\n"
          ]
        }
      ],
      "source": [
        "bank.info()"
      ]
    },
    {
      "cell_type": "code",
      "execution_count": 9,
      "metadata": {
        "colab": {
          "base_uri": "https://localhost:8080/",
          "height": 300
        },
        "id": "privPenYpsqS",
        "outputId": "2e76a149-7103-4de1-d9af-11b4f590cad5"
      },
      "outputs": [
        {
          "data": {
            "text/html": [
              "\n",
              "\n",
              "  <div id=\"df-a73a2f6f-0507-4913-8f65-1106e1cbbd5f\">\n",
              "    <div class=\"colab-df-container\">\n",
              "      <div>\n",
              "<style scoped>\n",
              "    .dataframe tbody tr th:only-of-type {\n",
              "        vertical-align: middle;\n",
              "    }\n",
              "\n",
              "    .dataframe tbody tr th {\n",
              "        vertical-align: top;\n",
              "    }\n",
              "\n",
              "    .dataframe thead th {\n",
              "        text-align: right;\n",
              "    }\n",
              "</style>\n",
              "<table border=\"1\" class=\"dataframe\">\n",
              "  <thead>\n",
              "    <tr style=\"text-align: right;\">\n",
              "      <th></th>\n",
              "      <th>duration</th>\n",
              "      <th>amount</th>\n",
              "      <th>age</th>\n",
              "    </tr>\n",
              "  </thead>\n",
              "  <tbody>\n",
              "    <tr>\n",
              "      <th>count</th>\n",
              "      <td>1000.000000</td>\n",
              "      <td>1000.00000</td>\n",
              "      <td>1000.00000</td>\n",
              "    </tr>\n",
              "    <tr>\n",
              "      <th>mean</th>\n",
              "      <td>20.903000</td>\n",
              "      <td>3271.24800</td>\n",
              "      <td>35.54200</td>\n",
              "    </tr>\n",
              "    <tr>\n",
              "      <th>std</th>\n",
              "      <td>12.058814</td>\n",
              "      <td>2822.75176</td>\n",
              "      <td>11.35267</td>\n",
              "    </tr>\n",
              "    <tr>\n",
              "      <th>min</th>\n",
              "      <td>4.000000</td>\n",
              "      <td>250.00000</td>\n",
              "      <td>19.00000</td>\n",
              "    </tr>\n",
              "    <tr>\n",
              "      <th>25%</th>\n",
              "      <td>12.000000</td>\n",
              "      <td>1365.50000</td>\n",
              "      <td>27.00000</td>\n",
              "    </tr>\n",
              "    <tr>\n",
              "      <th>50%</th>\n",
              "      <td>18.000000</td>\n",
              "      <td>2319.50000</td>\n",
              "      <td>33.00000</td>\n",
              "    </tr>\n",
              "    <tr>\n",
              "      <th>75%</th>\n",
              "      <td>24.000000</td>\n",
              "      <td>3972.25000</td>\n",
              "      <td>42.00000</td>\n",
              "    </tr>\n",
              "    <tr>\n",
              "      <th>max</th>\n",
              "      <td>72.000000</td>\n",
              "      <td>18424.00000</td>\n",
              "      <td>75.00000</td>\n",
              "    </tr>\n",
              "  </tbody>\n",
              "</table>\n",
              "</div>\n",
              "      <button class=\"colab-df-convert\" onclick=\"convertToInteractive('df-a73a2f6f-0507-4913-8f65-1106e1cbbd5f')\"\n",
              "              title=\"Convert this dataframe to an interactive table.\"\n",
              "              style=\"display:none;\">\n",
              "\n",
              "  <svg xmlns=\"http://www.w3.org/2000/svg\" height=\"24px\"viewBox=\"0 0 24 24\"\n",
              "       width=\"24px\">\n",
              "    <path d=\"M0 0h24v24H0V0z\" fill=\"none\"/>\n",
              "    <path d=\"M18.56 5.44l.94 2.06.94-2.06 2.06-.94-2.06-.94-.94-2.06-.94 2.06-2.06.94zm-11 1L8.5 8.5l.94-2.06 2.06-.94-2.06-.94L8.5 2.5l-.94 2.06-2.06.94zm10 10l.94 2.06.94-2.06 2.06-.94-2.06-.94-.94-2.06-.94 2.06-2.06.94z\"/><path d=\"M17.41 7.96l-1.37-1.37c-.4-.4-.92-.59-1.43-.59-.52 0-1.04.2-1.43.59L10.3 9.45l-7.72 7.72c-.78.78-.78 2.05 0 2.83L4 21.41c.39.39.9.59 1.41.59.51 0 1.02-.2 1.41-.59l7.78-7.78 2.81-2.81c.8-.78.8-2.07 0-2.86zM5.41 20L4 18.59l7.72-7.72 1.47 1.35L5.41 20z\"/>\n",
              "  </svg>\n",
              "      </button>\n",
              "\n",
              "\n",
              "\n",
              "    <div id=\"df-06b5494a-7207-4e62-8ec0-0deb3e2edf92\">\n",
              "      <button class=\"colab-df-quickchart\" onclick=\"quickchart('df-06b5494a-7207-4e62-8ec0-0deb3e2edf92')\"\n",
              "              title=\"Suggest charts.\"\n",
              "              style=\"display:none;\">\n",
              "\n",
              "<svg xmlns=\"http://www.w3.org/2000/svg\" height=\"24px\"viewBox=\"0 0 24 24\"\n",
              "     width=\"24px\">\n",
              "    <g>\n",
              "        <path d=\"M19 3H5c-1.1 0-2 .9-2 2v14c0 1.1.9 2 2 2h14c1.1 0 2-.9 2-2V5c0-1.1-.9-2-2-2zM9 17H7v-7h2v7zm4 0h-2V7h2v10zm4 0h-2v-4h2v4z\"/>\n",
              "    </g>\n",
              "</svg>\n",
              "      </button>\n",
              "    </div>\n",
              "\n",
              "<style>\n",
              "  .colab-df-quickchart {\n",
              "    background-color: #E8F0FE;\n",
              "    border: none;\n",
              "    border-radius: 50%;\n",
              "    cursor: pointer;\n",
              "    display: none;\n",
              "    fill: #1967D2;\n",
              "    height: 32px;\n",
              "    padding: 0 0 0 0;\n",
              "    width: 32px;\n",
              "  }\n",
              "\n",
              "  .colab-df-quickchart:hover {\n",
              "    background-color: #E2EBFA;\n",
              "    box-shadow: 0px 1px 2px rgba(60, 64, 67, 0.3), 0px 1px 3px 1px rgba(60, 64, 67, 0.15);\n",
              "    fill: #174EA6;\n",
              "  }\n",
              "\n",
              "  [theme=dark] .colab-df-quickchart {\n",
              "    background-color: #3B4455;\n",
              "    fill: #D2E3FC;\n",
              "  }\n",
              "\n",
              "  [theme=dark] .colab-df-quickchart:hover {\n",
              "    background-color: #434B5C;\n",
              "    box-shadow: 0px 1px 3px 1px rgba(0, 0, 0, 0.15);\n",
              "    filter: drop-shadow(0px 1px 2px rgba(0, 0, 0, 0.3));\n",
              "    fill: #FFFFFF;\n",
              "  }\n",
              "</style>\n",
              "\n",
              "    <script>\n",
              "      async function quickchart(key) {\n",
              "        const containerElement = document.querySelector('#' + key);\n",
              "        const charts = await google.colab.kernel.invokeFunction(\n",
              "            'suggestCharts', [key], {});\n",
              "      }\n",
              "    </script>\n",
              "\n",
              "      <script>\n",
              "\n",
              "function displayQuickchartButton(domScope) {\n",
              "  let quickchartButtonEl =\n",
              "    domScope.querySelector('#df-06b5494a-7207-4e62-8ec0-0deb3e2edf92 button.colab-df-quickchart');\n",
              "  quickchartButtonEl.style.display =\n",
              "    google.colab.kernel.accessAllowed ? 'block' : 'none';\n",
              "}\n",
              "\n",
              "        displayQuickchartButton(document);\n",
              "      </script>\n",
              "      <style>\n",
              "    .colab-df-container {\n",
              "      display:flex;\n",
              "      flex-wrap:wrap;\n",
              "      gap: 12px;\n",
              "    }\n",
              "\n",
              "    .colab-df-convert {\n",
              "      background-color: #E8F0FE;\n",
              "      border: none;\n",
              "      border-radius: 50%;\n",
              "      cursor: pointer;\n",
              "      display: none;\n",
              "      fill: #1967D2;\n",
              "      height: 32px;\n",
              "      padding: 0 0 0 0;\n",
              "      width: 32px;\n",
              "    }\n",
              "\n",
              "    .colab-df-convert:hover {\n",
              "      background-color: #E2EBFA;\n",
              "      box-shadow: 0px 1px 2px rgba(60, 64, 67, 0.3), 0px 1px 3px 1px rgba(60, 64, 67, 0.15);\n",
              "      fill: #174EA6;\n",
              "    }\n",
              "\n",
              "    [theme=dark] .colab-df-convert {\n",
              "      background-color: #3B4455;\n",
              "      fill: #D2E3FC;\n",
              "    }\n",
              "\n",
              "    [theme=dark] .colab-df-convert:hover {\n",
              "      background-color: #434B5C;\n",
              "      box-shadow: 0px 1px 3px 1px rgba(0, 0, 0, 0.15);\n",
              "      filter: drop-shadow(0px 1px 2px rgba(0, 0, 0, 0.3));\n",
              "      fill: #FFFFFF;\n",
              "    }\n",
              "  </style>\n",
              "\n",
              "      <script>\n",
              "        const buttonEl =\n",
              "          document.querySelector('#df-a73a2f6f-0507-4913-8f65-1106e1cbbd5f button.colab-df-convert');\n",
              "        buttonEl.style.display =\n",
              "          google.colab.kernel.accessAllowed ? 'block' : 'none';\n",
              "\n",
              "        async function convertToInteractive(key) {\n",
              "          const element = document.querySelector('#df-a73a2f6f-0507-4913-8f65-1106e1cbbd5f');\n",
              "          const dataTable =\n",
              "            await google.colab.kernel.invokeFunction('convertToInteractive',\n",
              "                                                     [key], {});\n",
              "          if (!dataTable) return;\n",
              "\n",
              "          const docLinkHtml = 'Like what you see? Visit the ' +\n",
              "            '<a target=\"_blank\" href=https://colab.research.google.com/notebooks/data_table.ipynb>data table notebook</a>'\n",
              "            + ' to learn more about interactive tables.';\n",
              "          element.innerHTML = '';\n",
              "          dataTable['output_type'] = 'display_data';\n",
              "          await google.colab.output.renderOutput(dataTable, element);\n",
              "          const docLink = document.createElement('div');\n",
              "          docLink.innerHTML = docLinkHtml;\n",
              "          element.appendChild(docLink);\n",
              "        }\n",
              "      </script>\n",
              "    </div>\n",
              "  </div>\n"
            ],
            "text/plain": [
              "          duration       amount         age\n",
              "count  1000.000000   1000.00000  1000.00000\n",
              "mean     20.903000   3271.24800    35.54200\n",
              "std      12.058814   2822.75176    11.35267\n",
              "min       4.000000    250.00000    19.00000\n",
              "25%      12.000000   1365.50000    27.00000\n",
              "50%      18.000000   2319.50000    33.00000\n",
              "75%      24.000000   3972.25000    42.00000\n",
              "max      72.000000  18424.00000    75.00000"
            ]
          },
          "execution_count": 9,
          "metadata": {},
          "output_type": "execute_result"
        }
      ],
      "source": [
        "bank.describe()"
      ]
    },
    {
      "cell_type": "code",
      "execution_count": 10,
      "metadata": {
        "colab": {
          "base_uri": "https://localhost:8080/"
        },
        "id": "RaBQp9bm0c1Q",
        "outputId": "bccbf328-725c-4a15-d2cc-7de485e050ca"
      },
      "outputs": [
        {
          "data": {
            "text/plain": [
              "status                     0\n",
              "duration                   0\n",
              "credit_history             0\n",
              "purpose                    0\n",
              "amount                     0\n",
              "savings                    0\n",
              "employment_duration        0\n",
              "installment_rate           0\n",
              "personal_status_sex        0\n",
              "other_debtors              0\n",
              "present_residence          0\n",
              "property                   0\n",
              "age                        0\n",
              "other_installment_plans    0\n",
              "housing                    0\n",
              "number_credits             0\n",
              "job                        0\n",
              "people_liable              0\n",
              "telephone                  0\n",
              "foreign_worker             0\n",
              "credit_risk                0\n",
              "dtype: int64"
            ]
          },
          "execution_count": 10,
          "metadata": {},
          "output_type": "execute_result"
        }
      ],
      "source": [
        "bank.isnull().sum()"
      ]
    },
    {
      "cell_type": "code",
      "execution_count": 11,
      "metadata": {
        "colab": {
          "base_uri": "https://localhost:8080/"
        },
        "id": "KF-CrDoOzS7l",
        "outputId": "a2dfa533-5aa9-47ed-fae6-83c02a154078"
      },
      "outputs": [
        {
          "data": {
            "text/plain": [
              "status                       4\n",
              "duration                    33\n",
              "credit_history               5\n",
              "purpose                     10\n",
              "amount                     923\n",
              "savings                      5\n",
              "employment_duration          5\n",
              "installment_rate             4\n",
              "personal_status_sex          4\n",
              "other_debtors                3\n",
              "present_residence            4\n",
              "property                     4\n",
              "age                         53\n",
              "other_installment_plans      3\n",
              "housing                      3\n",
              "number_credits               4\n",
              "job                          4\n",
              "people_liable                2\n",
              "telephone                    2\n",
              "foreign_worker               2\n",
              "credit_risk                  2\n",
              "dtype: int64"
            ]
          },
          "execution_count": 11,
          "metadata": {},
          "output_type": "execute_result"
        }
      ],
      "source": [
        "bank.nunique()"
      ]
    },
    {
      "cell_type": "code",
      "execution_count": 12,
      "metadata": {
        "colab": {
          "base_uri": "https://localhost:8080/",
          "height": 410
        },
        "id": "uv4qEuYAD401",
        "outputId": "73fd358e-7509-4a06-c809-779792dab28c"
      },
      "outputs": [
        {
          "data": {
            "image/png": "[encoded data removed]",
            "text/plain": [
              "<Figure size 1000x400 with 1 Axes>"
            ]
          },
          "metadata": {},
          "output_type": "display_data"
        }
      ],
      "source": [
        "# Identify numerical columns\n",
        "numerical_columns = bank.select_dtypes(include=[np.number]).columns\n",
        "\n",
        "# Function to find outliers using IQR method\n",
        "def find_outliers_iqr(data, column):\n",
        "    Q1 = data[column].quantile(0.25)\n",
        "    Q3 = data[column].quantile(0.75)\n",
        "    IQR = Q3 - Q1\n",
        "    lower_bound = Q1 - 1.5 * IQR\n",
        "    upper_bound = Q3 + 1.5 * IQR\n",
        "    outliers = data[(data[column] < lower_bound) | (data[column] > upper_bound)]\n",
        "    return outliers\n",
        "\n",
        "# Find outliers in each numerical column\n",
        "outliers_dict = {}\n",
        "for column in numerical_columns:\n",
        "    outliers_dict[column] = find_outliers_iqr(bank, column)\n",
        "\n",
        "\n",
        "# Plot boxplots for each numerical column\n",
        "plt.figure(figsize=(10,4))\n",
        "sns.boxplot(data=bank[numerical_columns], orient='h')\n",
        "plt.title(\"Boxplot of Numerical Columns\")\n",
        "plt.xlabel(\"Value\")\n",
        "plt.show()"
      ]
    },
    {
      "cell_type": "code",
      "execution_count": 13,
      "metadata": {
        "colab": {
          "base_uri": "https://localhost:8080/"
        },
        "id": "cIh02EUIzmOL",
        "outputId": "8c11765e-1e24-4cde-8b33-75b09dd62ce8"
      },
      "outputs": [
        {
          "data": {
            "text/plain": [
              "good    700\n",
              "bad     300\n",
              "Name: credit_risk, dtype: int64"
            ]
          },
          "execution_count": 13,
          "metadata": {},
          "output_type": "execute_result"
        }
      ],
      "source": [
        "bank[\"credit_risk\"].value_counts()"
      ]
    },
    {
      "cell_type": "markdown",
      "metadata": {
        "id": "oSIcAdfGzdwF"
      },
      "source": [
        "**ANALYSIS:1**\n",
        "\n",
        "1. Initial analysis shows there are 1000 rows with 700 good credit risk and 300 bad credit risk.\n",
        "2. There are 3 Numerical variables and 17 categorical variables with 1 showing the output [\"credit_risk\"].\n",
        "3. People have taken loans from age of 19 till 75 years.\n",
        "4. There are no significant outliers other than amount.\n"
      ]
    },
    {
      "cell_type": "code",
      "execution_count": 14,
      "metadata": {
        "colab": {
          "base_uri": "https://localhost:8080/",
          "height": 736
        },
        "id": "VsJWMyDf1y-F",
        "outputId": "6ae6560f-d4c9-4099-b595-39c64ad9b465"
      },
      "outputs": [
        {
          "data": {
            "image/png": "[encoded data removed]",
            "text/plain": [
              "<Figure size 1000x400 with 1 Axes>"
            ]
          },
          "metadata": {},
          "output_type": "display_data"
        }
      ],
      "source": [
        "#Analysis of Job Types by Credit Risk\n",
        "job_counts = bank.groupby(['job', 'credit_risk']).size().unstack()\n",
        "\n",
        "# Plotting the stacked bar chart using seaborn\n",
        "sns.set(style='whitegrid')\n",
        "fig, ax = plt.subplots(figsize=(10, 4))\n",
        "job_counts.plot(kind='bar', stacked=False, ax=ax)\n",
        "\n",
        "# Set the plot title and labels\n",
        "ax.set_title('Analysis of Job Types by Credit Risk')\n",
        "ax.set_xlabel('Job Type')\n",
        "ax.set_ylabel('Count')\n",
        "\n",
        "# Display the chart\n",
        "plt.show()"
      ]
    },
    {
      "cell_type": "code",
      "execution_count": 15,
      "metadata": {
        "colab": {
          "base_uri": "https://localhost:8080/",
          "height": 523
        },
        "id": "i_U5hJsz5LTi",
        "outputId": "178e871a-aaf8-473c-e1df-0ec686f3ef2f"
      },
      "outputs": [
        {
          "data": {
            "image/png": "[encoded data removed]",
            "text/plain": [
              "<Figure size 1000x400 with 1 Axes>"
            ]
          },
          "metadata": {},
          "output_type": "display_data"
        }
      ],
      "source": [
        "#Analysis of Credit Risk by Employment Duration\n",
        "duration = bank.groupby(['employment_duration', 'credit_risk']).size().unstack()\n",
        "\n",
        "# Plotting the stacked bar chart using seaborn\n",
        "sns.set(style='whitegrid')\n",
        "fig, ax = plt.subplots(figsize=(10, 4))\n",
        "duration.plot(kind='bar', stacked=False, ax=ax)\n",
        "\n",
        "# Set the plot title and labels\n",
        "ax.set_title('Analysis of Credit Risk By Employment Duration')\n",
        "ax.set_xlabel('Employment Duration')\n",
        "ax.set_ylabel('Count')\n",
        "\n",
        "# Display the chart\n",
        "plt.show()"
      ]
    },
    {
      "cell_type": "code",
      "execution_count": 16,
      "metadata": {
        "colab": {
          "base_uri": "https://localhost:8080/",
          "height": 675
        },
        "id": "SLQfwEGQ6mGl",
        "outputId": "280a01df-914d-441b-b399-60a0f8ccd142"
      },
      "outputs": [
        {
          "data": {
            "image/png": "[encoded data removed]",
            "text/plain": [
              "<Figure size 1000x400 with 1 Axes>"
            ]
          },
          "metadata": {},
          "output_type": "display_data"
        }
      ],
      "source": [
        "#Analysis of Credit Risk by Gender\n",
        "gender = bank.groupby(['personal_status_sex', 'credit_risk']).size().unstack()\n",
        "\n",
        "# Plotting the stacked bar chart using seaborn\n",
        "sns.set(style='whitegrid')\n",
        "fig, ax = plt.subplots(figsize=(10, 4))\n",
        "gender.plot(kind='bar', stacked=False, ax=ax)\n",
        "\n",
        "# Set the plot title and labels\n",
        "ax.set_title('Analysis of Credit Risk By Gender')\n",
        "ax.set_xlabel('Sex')\n",
        "ax.set_ylabel('Count')\n",
        "\n",
        "# Display the chart\n",
        "plt.show()"
      ]
    },
    {
      "cell_type": "code",
      "execution_count": 17,
      "metadata": {
        "colab": {
          "base_uri": "https://localhost:8080/",
          "height": 561
        },
        "id": "C_91tIF664qa",
        "outputId": "af21c592-2e0c-4810-e5ae-0b1dafa4a8ed"
      },
      "outputs": [
        {
          "data": {
            "image/png": "[encoded data removed]",
            "text/plain": [
              "<Figure size 1000x400 with 1 Axes>"
            ]
          },
          "metadata": {},
          "output_type": "display_data"
        }
      ],
      "source": [
        "#Analysis of Credit Risk by Purpose\n",
        "purpose = bank.groupby(['purpose', 'credit_risk']).size().unstack()\n",
        "\n",
        "# Plotting the stacked bar chart using seaborn\n",
        "sns.set(style='whitegrid')\n",
        "fig, ax = plt.subplots(figsize=(10, 4))\n",
        "purpose.plot(kind='bar', stacked=False, ax=ax)\n",
        "\n",
        "# Set the plot title and labels\n",
        "ax.set_title('Analysis of Credit Risk By Purpose')\n",
        "ax.set_xlabel('Purpose')\n",
        "ax.set_ylabel('Count')\n",
        "\n",
        "# Display the chart\n",
        "plt.show()"
      ]
    },
    {
      "cell_type": "code",
      "execution_count": 18,
      "metadata": {
        "colab": {
          "base_uri": "https://localhost:8080/"
        },
        "id": "KWIUjhd5W57c",
        "outputId": "32e41ba5-c63c-4158-fd5f-d5070f0c397e"
      },
      "outputs": [
        {
          "name": "stdout",
          "output_type": "stream",
          "text": [
            "           Count  Good Credit Risk Count  Good Credit Risk Percentage  Bad Credit Risk Count  Bad Credit Risk Percentage\n",
            "Age Group                                                                                                               \n",
            "below 20       2                       1                    50.000000                      1                   50.000000\n",
            "20-29        367                     231                    62.942779                    136                   37.057221\n",
            "30-39        332                     247                    74.397590                     85                   25.602410\n",
            "40-49        176                     132                    75.000000                     44                   25.000000\n",
            "50-59         72                      51                    70.833333                     21                   29.166667\n",
            "above 60      51                      38                    74.509804                     13                   25.490196\n"
          ]
        }
      ],
      "source": [
        "# Create age groups\n",
        "bins = [0, 20, 30, 40, 50, 60, float('inf')]\n",
        "labels = ['below 20', '20-29', '30-39', '40-49', '50-59', 'above 60']\n",
        "bank['age_group'] = pd.cut(bank['age'], bins=bins, labels=labels, right=False)\n",
        "\n",
        "# Create a table with age groups and value counts\n",
        "age_counts = bank['age_group'].value_counts().reset_index().sort_values('index')\n",
        "age_counts.columns = ['Age Group', 'Count']\n",
        "age_counts = age_counts.set_index('Age Group')\n",
        "\n",
        "# Group by age groups and credit_risk and count the occurrences\n",
        "grouped = bank.groupby(['age_group', 'credit_risk']).size().reset_index(name='count')\n",
        "\n",
        "# Calculate the total count for each age group\n",
        "total_counts = grouped.groupby('age_group')['count'].sum()\n",
        "\n",
        "# Calculate the category percentages separately for 'good' and 'bad' credit risks\n",
        "grouped['percentage'] = grouped.apply(lambda row: (row['count'] / total_counts[row['age_group']]) * 100, axis=1)\n",
        "\n",
        "# Create separate tables for 'good' and 'bad' credit risks\n",
        "good_risk_table = grouped[grouped['credit_risk'] == 'good'].set_index('age_group')[['count', 'percentage']]\n",
        "good_risk_table.columns = ['Good Credit Risk Count', 'Good Credit Risk Percentage']\n",
        "\n",
        "bad_risk_table = grouped[grouped['credit_risk'] == 'bad'].set_index('age_group')[['count', 'percentage']]\n",
        "bad_risk_table.columns = ['Bad Credit Risk Count', 'Bad Credit Risk Percentage']\n",
        "\n",
        "# Join the tables\n",
        "result_table = age_counts.join(good_risk_table).join(bad_risk_table)\n",
        "\n",
        "# Print the table\n",
        "print(result_table.to_string())\n"
      ]
    },
    {
      "cell_type": "code",
      "execution_count": 19,
      "metadata": {
        "colab": {
          "base_uri": "https://localhost:8080/",
          "height": 419
        },
        "id": "gOl8Nvfx4H6l",
        "outputId": "44c9b2de-2256-42e4-e8c7-83eb78d9f056"
      },
      "outputs": [
        {
          "data": {
            "image/png": "[encoded data removed]",
            "text/plain": [
              "<Figure size 1000x400 with 1 Axes>"
            ]
          },
          "metadata": {},
          "output_type": "display_data"
        }
      ],
      "source": [
        "# Create age groups\n",
        "bins = [0, 20, 30, 40, 50, 60, float('inf')]\n",
        "labels = ['below 20', '20-29', '30-39', '40-49', '50-59', 'above 60']\n",
        "bank['age_group'] = pd.cut(bank['age'], bins=bins, labels=labels, right=False)\n",
        "\n",
        "# Create a table with age groups and value counts\n",
        "age_counts = bank['age_group'].value_counts().reset_index().sort_values('index')\n",
        "age_counts.columns = ['Age Group', 'Count']\n",
        "\n",
        "# Group by age groups and credit_risk and count the occurrences\n",
        "grouped = bank.groupby(['age_group', 'credit_risk']).size().reset_index(name='count')\n",
        "\n",
        "# Calculate the total count for each age group\n",
        "total_counts = grouped.groupby('age_group')['count'].sum()\n",
        "\n",
        "# Calculate the category percentages separately for 'good' and 'bad' credit risks\n",
        "grouped['percentage'] = grouped.apply(lambda row: (row['count'] / total_counts[row['age_group']]) * 100, axis=1)\n",
        "\n",
        "# Create a bar chart using seaborn\n",
        "plt.figure(figsize=(10, 4))\n",
        "sns.barplot(data=grouped, x='age_group', y='percentage', hue='credit_risk', palette='Set2')\n",
        "\n",
        "# Customize the plot\n",
        "plt.title('Category Percentages by Age Group and Credit Risk')\n",
        "plt.xlabel('Age Group')\n",
        "plt.ylabel('Percentage')\n",
        "plt.legend(title='Credit Risk')\n",
        "\n",
        "# Show the plot\n",
        "plt.show()"
      ]
    },
    {
      "cell_type": "code",
      "execution_count": 20,
      "metadata": {
        "colab": {
          "base_uri": "https://localhost:8080/",
          "height": 238
        },
        "id": "1XXPgqcC_VHH",
        "outputId": "14f03dcb-77e8-49cc-fb7e-9edaf4c338d6"
      },
      "outputs": [
        {
          "data": {
            "text/html": [
              "\n",
              "\n",
              "  <div id=\"df-5b2d746b-1ba8-494c-ab0a-e34b8773e8e3\">\n",
              "    <div class=\"colab-df-container\">\n",
              "      <div>\n",
              "<style scoped>\n",
              "    .dataframe tbody tr th:only-of-type {\n",
              "        vertical-align: middle;\n",
              "    }\n",
              "\n",
              "    .dataframe tbody tr th {\n",
              "        vertical-align: top;\n",
              "    }\n",
              "\n",
              "    .dataframe thead th {\n",
              "        text-align: right;\n",
              "    }\n",
              "</style>\n",
              "<table border=\"1\" class=\"dataframe\">\n",
              "  <thead>\n",
              "    <tr style=\"text-align: right;\">\n",
              "      <th>credit_risk</th>\n",
              "      <th>bad</th>\n",
              "      <th>good</th>\n",
              "    </tr>\n",
              "    <tr>\n",
              "      <th>credit_history</th>\n",
              "      <th></th>\n",
              "      <th></th>\n",
              "    </tr>\n",
              "  </thead>\n",
              "  <tbody>\n",
              "    <tr>\n",
              "      <th>all credits at this bank paid back duly</th>\n",
              "      <td>50</td>\n",
              "      <td>243</td>\n",
              "    </tr>\n",
              "    <tr>\n",
              "      <th>critical account/other credits elsewhere</th>\n",
              "      <td>28</td>\n",
              "      <td>21</td>\n",
              "    </tr>\n",
              "    <tr>\n",
              "      <th>delay in paying off in the past</th>\n",
              "      <td>25</td>\n",
              "      <td>15</td>\n",
              "    </tr>\n",
              "    <tr>\n",
              "      <th>existing credits paid back duly till now</th>\n",
              "      <td>28</td>\n",
              "      <td>60</td>\n",
              "    </tr>\n",
              "    <tr>\n",
              "      <th>no credits taken/all credits paid back duly</th>\n",
              "      <td>169</td>\n",
              "      <td>361</td>\n",
              "    </tr>\n",
              "  </tbody>\n",
              "</table>\n",
              "</div>\n",
              "      <button class=\"colab-df-convert\" onclick=\"convertToInteractive('df-5b2d746b-1ba8-494c-ab0a-e34b8773e8e3')\"\n",
              "              title=\"Convert this dataframe to an interactive table.\"\n",
              "              style=\"display:none;\">\n",
              "\n",
              "  <svg xmlns=\"http://www.w3.org/2000/svg\" height=\"24px\"viewBox=\"0 0 24 24\"\n",
              "       width=\"24px\">\n",
              "    <path d=\"M0 0h24v24H0V0z\" fill=\"none\"/>\n",
              "    <path d=\"M18.56 5.44l.94 2.06.94-2.06 2.06-.94-2.06-.94-.94-2.06-.94 2.06-2.06.94zm-11 1L8.5 8.5l.94-2.06 2.06-.94-2.06-.94L8.5 2.5l-.94 2.06-2.06.94zm10 10l.94 2.06.94-2.06 2.06-.94-2.06-.94-.94-2.06-.94 2.06-2.06.94z\"/><path d=\"M17.41 7.96l-1.37-1.37c-.4-.4-.92-.59-1.43-.59-.52 0-1.04.2-1.43.59L10.3 9.45l-7.72 7.72c-.78.78-.78 2.05 0 2.83L4 21.41c.39.39.9.59 1.41.59.51 0 1.02-.2 1.41-.59l7.78-7.78 2.81-2.81c.8-.78.8-2.07 0-2.86zM5.41 20L4 18.59l7.72-7.72 1.47 1.35L5.41 20z\"/>\n",
              "  </svg>\n",
              "      </button>\n",
              "\n",
              "\n",
              "\n",
              "    <div id=\"df-a9f76477-589b-46b1-8645-ca16ca2579c4\">\n",
              "      <button class=\"colab-df-quickchart\" onclick=\"quickchart('df-a9f76477-589b-46b1-8645-ca16ca2579c4')\"\n",
              "              title=\"Suggest charts.\"\n",
              "              style=\"display:none;\">\n",
              "\n",
              "<svg xmlns=\"http://www.w3.org/2000/svg\" height=\"24px\"viewBox=\"0 0 24 24\"\n",
              "     width=\"24px\">\n",
              "    <g>\n",
              "        <path d=\"M19 3H5c-1.1 0-2 .9-2 2v14c0 1.1.9 2 2 2h14c1.1 0 2-.9 2-2V5c0-1.1-.9-2-2-2zM9 17H7v-7h2v7zm4 0h-2V7h2v10zm4 0h-2v-4h2v4z\"/>\n",
              "    </g>\n",
              "</svg>\n",
              "      </button>\n",
              "    </div>\n",
              "\n",
              "<style>\n",
              "  .colab-df-quickchart {\n",
              "    background-color: #E8F0FE;\n",
              "    border: none;\n",
              "    border-radius: 50%;\n",
              "    cursor: pointer;\n",
              "    display: none;\n",
              "    fill: #1967D2;\n",
              "    height: 32px;\n",
              "    padding: 0 0 0 0;\n",
              "    width: 32px;\n",
              "  }\n",
              "\n",
              "  .colab-df-quickchart:hover {\n",
              "    background-color: #E2EBFA;\n",
              "    box-shadow: 0px 1px 2px rgba(60, 64, 67, 0.3), 0px 1px 3px 1px rgba(60, 64, 67, 0.15);\n",
              "    fill: #174EA6;\n",
              "  }\n",
              "\n",
              "  [theme=dark] .colab-df-quickchart {\n",
              "    background-color: #3B4455;\n",
              "    fill: #D2E3FC;\n",
              "  }\n",
              "\n",
              "  [theme=dark] .colab-df-quickchart:hover {\n",
              "    background-color: #434B5C;\n",
              "    box-shadow: 0px 1px 3px 1px rgba(0, 0, 0, 0.15);\n",
              "    filter: drop-shadow(0px 1px 2px rgba(0, 0, 0, 0.3));\n",
              "    fill: #FFFFFF;\n",
              "  }\n",
              "</style>\n",
              "\n",
              "    <script>\n",
              "      async function quickchart(key) {\n",
              "        const containerElement = document.querySelector('#' + key);\n",
              "        const charts = await google.colab.kernel.invokeFunction(\n",
              "            'suggestCharts', [key], {});\n",
              "      }\n",
              "    </script>\n",
              "\n",
              "      <script>\n",
              "\n",
              "function displayQuickchartButton(domScope) {\n",
              "  let quickchartButtonEl =\n",
              "    domScope.querySelector('#df-a9f76477-589b-46b1-8645-ca16ca2579c4 button.colab-df-quickchart');\n",
              "  quickchartButtonEl.style.display =\n",
              "    google.colab.kernel.accessAllowed ? 'block' : 'none';\n",
              "}\n",
              "\n",
              "        displayQuickchartButton(document);\n",
              "      </script>\n",
              "      <style>\n",
              "    .colab-df-container {\n",
              "      display:flex;\n",
              "      flex-wrap:wrap;\n",
              "      gap: 12px;\n",
              "    }\n",
              "\n",
              "    .colab-df-convert {\n",
              "      background-color: #E8F0FE;\n",
              "      border: none;\n",
              "      border-radius: 50%;\n",
              "      cursor: pointer;\n",
              "      display: none;\n",
              "      fill: #1967D2;\n",
              "      height: 32px;\n",
              "      padding: 0 0 0 0;\n",
              "      width: 32px;\n",
              "    }\n",
              "\n",
              "    .colab-df-convert:hover {\n",
              "      background-color: #E2EBFA;\n",
              "      box-shadow: 0px 1px 2px rgba(60, 64, 67, 0.3), 0px 1px 3px 1px rgba(60, 64, 67, 0.15);\n",
              "      fill: #174EA6;\n",
              "    }\n",
              "\n",
              "    [theme=dark] .colab-df-convert {\n",
              "      background-color: #3B4455;\n",
              "      fill: #D2E3FC;\n",
              "    }\n",
              "\n",
              "    [theme=dark] .colab-df-convert:hover {\n",
              "      background-color: #434B5C;\n",
              "      box-shadow: 0px 1px 3px 1px rgba(0, 0, 0, 0.15);\n",
              "      filter: drop-shadow(0px 1px 2px rgba(0, 0, 0, 0.3));\n",
              "      fill: #FFFFFF;\n",
              "    }\n",
              "  </style>\n",
              "\n",
              "      <script>\n",
              "        const buttonEl =\n",
              "          document.querySelector('#df-5b2d746b-1ba8-494c-ab0a-e34b8773e8e3 button.colab-df-convert');\n",
              "        buttonEl.style.display =\n",
              "          google.colab.kernel.accessAllowed ? 'block' : 'none';\n",
              "\n",
              "        async function convertToInteractive(key) {\n",
              "          const element = document.querySelector('#df-5b2d746b-1ba8-494c-ab0a-e34b8773e8e3');\n",
              "          const dataTable =\n",
              "            await google.colab.kernel.invokeFunction('convertToInteractive',\n",
              "                                                     [key], {});\n",
              "          if (!dataTable) return;\n",
              "\n",
              "          const docLinkHtml = 'Like what you see? Visit the ' +\n",
              "            '<a target=\"_blank\" href=https://colab.research.google.com/notebooks/data_table.ipynb>data table notebook</a>'\n",
              "            + ' to learn more about interactive tables.';\n",
              "          element.innerHTML = '';\n",
              "          dataTable['output_type'] = 'display_data';\n",
              "          await google.colab.output.renderOutput(dataTable, element);\n",
              "          const docLink = document.createElement('div');\n",
              "          docLink.innerHTML = docLinkHtml;\n",
              "          element.appendChild(docLink);\n",
              "        }\n",
              "      </script>\n",
              "    </div>\n",
              "  </div>\n"
            ],
            "text/plain": [
              "credit_risk                                  bad  good\n",
              "credit_history                                        \n",
              "all credits at this bank paid back duly       50   243\n",
              "critical account/other credits elsewhere      28    21\n",
              "delay in paying off in the past               25    15\n",
              "existing credits paid back duly till now      28    60\n",
              "no credits taken/all credits paid back duly  169   361"
            ]
          },
          "execution_count": 20,
          "metadata": {},
          "output_type": "execute_result"
        }
      ],
      "source": [
        "bank.groupby(['credit_history', 'credit_risk']).size().unstack()"
      ]
    },
    {
      "cell_type": "code",
      "execution_count": 21,
      "metadata": {
        "colab": {
          "base_uri": "https://localhost:8080/",
          "height": 394
        },
        "id": "ZM1vufeJ_Y58",
        "outputId": "526f21cd-2e04-4d72-84eb-e9a6e8a4feba"
      },
      "outputs": [
        {
          "data": {
            "text/html": [
              "\n",
              "\n",
              "  <div id=\"df-bf2041fa-a5bb-4876-abab-480a65403053\">\n",
              "    <div class=\"colab-df-container\">\n",
              "      <div>\n",
              "<style scoped>\n",
              "    .dataframe tbody tr th:only-of-type {\n",
              "        vertical-align: middle;\n",
              "    }\n",
              "\n",
              "    .dataframe tbody tr th {\n",
              "        vertical-align: top;\n",
              "    }\n",
              "\n",
              "    .dataframe thead th {\n",
              "        text-align: right;\n",
              "    }\n",
              "</style>\n",
              "<table border=\"1\" class=\"dataframe\">\n",
              "  <thead>\n",
              "    <tr style=\"text-align: right;\">\n",
              "      <th>credit_risk</th>\n",
              "      <th>bad</th>\n",
              "      <th>good</th>\n",
              "    </tr>\n",
              "    <tr>\n",
              "      <th>purpose</th>\n",
              "      <th></th>\n",
              "      <th></th>\n",
              "    </tr>\n",
              "  </thead>\n",
              "  <tbody>\n",
              "    <tr>\n",
              "      <th>business</th>\n",
              "      <td>5</td>\n",
              "      <td>7</td>\n",
              "    </tr>\n",
              "    <tr>\n",
              "      <th>car (new)</th>\n",
              "      <td>17</td>\n",
              "      <td>86</td>\n",
              "    </tr>\n",
              "    <tr>\n",
              "      <th>car (used)</th>\n",
              "      <td>58</td>\n",
              "      <td>123</td>\n",
              "    </tr>\n",
              "    <tr>\n",
              "      <th>domestic appliances</th>\n",
              "      <td>8</td>\n",
              "      <td>14</td>\n",
              "    </tr>\n",
              "    <tr>\n",
              "      <th>furniture/equipment</th>\n",
              "      <td>62</td>\n",
              "      <td>218</td>\n",
              "    </tr>\n",
              "    <tr>\n",
              "      <th>others</th>\n",
              "      <td>89</td>\n",
              "      <td>145</td>\n",
              "    </tr>\n",
              "    <tr>\n",
              "      <th>radio/television</th>\n",
              "      <td>4</td>\n",
              "      <td>8</td>\n",
              "    </tr>\n",
              "    <tr>\n",
              "      <th>repairs</th>\n",
              "      <td>22</td>\n",
              "      <td>28</td>\n",
              "    </tr>\n",
              "    <tr>\n",
              "      <th>retraining</th>\n",
              "      <td>34</td>\n",
              "      <td>63</td>\n",
              "    </tr>\n",
              "    <tr>\n",
              "      <th>vacation</th>\n",
              "      <td>1</td>\n",
              "      <td>8</td>\n",
              "    </tr>\n",
              "  </tbody>\n",
              "</table>\n",
              "</div>\n",
              "      <button class=\"colab-df-convert\" onclick=\"convertToInteractive('df-bf2041fa-a5bb-4876-abab-480a65403053')\"\n",
              "              title=\"Convert this dataframe to an interactive table.\"\n",
              "              style=\"display:none;\">\n",
              "\n",
              "  <svg xmlns=\"http://www.w3.org/2000/svg\" height=\"24px\"viewBox=\"0 0 24 24\"\n",
              "       width=\"24px\">\n",
              "    <path d=\"M0 0h24v24H0V0z\" fill=\"none\"/>\n",
              "    <path d=\"M18.56 5.44l.94 2.06.94-2.06 2.06-.94-2.06-.94-.94-2.06-.94 2.06-2.06.94zm-11 1L8.5 8.5l.94-2.06 2.06-.94-2.06-.94L8.5 2.5l-.94 2.06-2.06.94zm10 10l.94 2.06.94-2.06 2.06-.94-2.06-.94-.94-2.06-.94 2.06-2.06.94z\"/><path d=\"M17.41 7.96l-1.37-1.37c-.4-.4-.92-.59-1.43-.59-.52 0-1.04.2-1.43.59L10.3 9.45l-7.72 7.72c-.78.78-.78 2.05 0 2.83L4 21.41c.39.39.9.59 1.41.59.51 0 1.02-.2 1.41-.59l7.78-7.78 2.81-2.81c.8-.78.8-2.07 0-2.86zM5.41 20L4 18.59l7.72-7.72 1.47 1.35L5.41 20z\"/>\n",
              "  </svg>\n",
              "      </button>\n",
              "\n",
              "\n",
              "\n",
              "    <div id=\"df-12c24cbf-204e-443c-8905-21c05d0a2fa3\">\n",
              "      <button class=\"colab-df-quickchart\" onclick=\"quickchart('df-12c24cbf-204e-443c-8905-21c05d0a2fa3')\"\n",
              "              title=\"Suggest charts.\"\n",
              "              style=\"display:none;\">\n",
              "\n",
              "<svg xmlns=\"http://www.w3.org/2000/svg\" height=\"24px\"viewBox=\"0 0 24 24\"\n",
              "     width=\"24px\">\n",
              "    <g>\n",
              "        <path d=\"M19 3H5c-1.1 0-2 .9-2 2v14c0 1.1.9 2 2 2h14c1.1 0 2-.9 2-2V5c0-1.1-.9-2-2-2zM9 17H7v-7h2v7zm4 0h-2V7h2v10zm4 0h-2v-4h2v4z\"/>\n",
              "    </g>\n",
              "</svg>\n",
              "      </button>\n",
              "    </div>\n",
              "\n",
              "<style>\n",
              "  .colab-df-quickchart {\n",
              "    background-color: #E8F0FE;\n",
              "    border: none;\n",
              "    border-radius: 50%;\n",
              "    cursor: pointer;\n",
              "    display: none;\n",
              "    fill: #1967D2;\n",
              "    height: 32px;\n",
              "    padding: 0 0 0 0;\n",
              "    width: 32px;\n",
              "  }\n",
              "\n",
              "  .colab-df-quickchart:hover {\n",
              "    background-color: #E2EBFA;\n",
              "    box-shadow: 0px 1px 2px rgba(60, 64, 67, 0.3), 0px 1px 3px 1px rgba(60, 64, 67, 0.15);\n",
              "    fill: #174EA6;\n",
              "  }\n",
              "\n",
              "  [theme=dark] .colab-df-quickchart {\n",
              "    background-color: #3B4455;\n",
              "    fill: #D2E3FC;\n",
              "  }\n",
              "\n",
              "  [theme=dark] .colab-df-quickchart:hover {\n",
              "    background-color: #434B5C;\n",
              "    box-shadow: 0px 1px 3px 1px rgba(0, 0, 0, 0.15);\n",
              "    filter: drop-shadow(0px 1px 2px rgba(0, 0, 0, 0.3));\n",
              "    fill: #FFFFFF;\n",
              "  }\n",
              "</style>\n",
              "\n",
              "    <script>\n",
              "      async function quickchart(key) {\n",
              "        const containerElement = document.querySelector('#' + key);\n",
              "        const charts = await google.colab.kernel.invokeFunction(\n",
              "            'suggestCharts', [key], {});\n",
              "      }\n",
              "    </script>\n",
              "\n",
              "      <script>\n",
              "\n",
              "function displayQuickchartButton(domScope) {\n",
              "  let quickchartButtonEl =\n",
              "    domScope.querySelector('#df-12c24cbf-204e-443c-8905-21c05d0a2fa3 button.colab-df-quickchart');\n",
              "  quickchartButtonEl.style.display =\n",
              "    google.colab.kernel.accessAllowed ? 'block' : 'none';\n",
              "}\n",
              "\n",
              "        displayQuickchartButton(document);\n",
              "      </script>\n",
              "      <style>\n",
              "    .colab-df-container {\n",
              "      display:flex;\n",
              "      flex-wrap:wrap;\n",
              "      gap: 12px;\n",
              "    }\n",
              "\n",
              "    .colab-df-convert {\n",
              "      background-color: #E8F0FE;\n",
              "      border: none;\n",
              "      border-radius: 50%;\n",
              "      cursor: pointer;\n",
              "      display: none;\n",
              "      fill: #1967D2;\n",
              "      height: 32px;\n",
              "      padding: 0 0 0 0;\n",
              "      width: 32px;\n",
              "    }\n",
              "\n",
              "    .colab-df-convert:hover {\n",
              "      background-color: #E2EBFA;\n",
              "      box-shadow: 0px 1px 2px rgba(60, 64, 67, 0.3), 0px 1px 3px 1px rgba(60, 64, 67, 0.15);\n",
              "      fill: #174EA6;\n",
              "    }\n",
              "\n",
              "    [theme=dark] .colab-df-convert {\n",
              "      background-color: #3B4455;\n",
              "      fill: #D2E3FC;\n",
              "    }\n",
              "\n",
              "    [theme=dark] .colab-df-convert:hover {\n",
              "      background-color: #434B5C;\n",
              "      box-shadow: 0px 1px 3px 1px rgba(0, 0, 0, 0.15);\n",
              "      filter: drop-shadow(0px 1px 2px rgba(0, 0, 0, 0.3));\n",
              "      fill: #FFFFFF;\n",
              "    }\n",
              "  </style>\n",
              "\n",
              "      <script>\n",
              "        const buttonEl =\n",
              "          document.querySelector('#df-bf2041fa-a5bb-4876-abab-480a65403053 button.colab-df-convert');\n",
              "        buttonEl.style.display =\n",
              "          google.colab.kernel.accessAllowed ? 'block' : 'none';\n",
              "\n",
              "        async function convertToInteractive(key) {\n",
              "          const element = document.querySelector('#df-bf2041fa-a5bb-4876-abab-480a65403053');\n",
              "          const dataTable =\n",
              "            await google.colab.kernel.invokeFunction('convertToInteractive',\n",
              "                                                     [key], {});\n",
              "          if (!dataTable) return;\n",
              "\n",
              "          const docLinkHtml = 'Like what you see? Visit the ' +\n",
              "            '<a target=\"_blank\" href=https://colab.research.google.com/notebooks/data_table.ipynb>data table notebook</a>'\n",
              "            + ' to learn more about interactive tables.';\n",
              "          element.innerHTML = '';\n",
              "          dataTable['output_type'] = 'display_data';\n",
              "          await google.colab.output.renderOutput(dataTable, element);\n",
              "          const docLink = document.createElement('div');\n",
              "          docLink.innerHTML = docLinkHtml;\n",
              "          element.appendChild(docLink);\n",
              "        }\n",
              "      </script>\n",
              "    </div>\n",
              "  </div>\n"
            ],
            "text/plain": [
              "credit_risk          bad  good\n",
              "purpose                       \n",
              "business               5     7\n",
              "car (new)             17    86\n",
              "car (used)            58   123\n",
              "domestic appliances    8    14\n",
              "furniture/equipment   62   218\n",
              "others                89   145\n",
              "radio/television       4     8\n",
              "repairs               22    28\n",
              "retraining            34    63\n",
              "vacation               1     8"
            ]
          },
          "execution_count": 21,
          "metadata": {},
          "output_type": "execute_result"
        }
      ],
      "source": [
        "bank.groupby(['purpose', 'credit_risk']).size().unstack()"
      ]
    },
    {
      "cell_type": "code",
      "execution_count": 22,
      "metadata": {
        "colab": {
          "base_uri": "https://localhost:8080/",
          "height": 206
        },
        "id": "0o1-VCm9Da6I",
        "outputId": "108194fd-2e04-41b2-db30-5e370e0cfead"
      },
      "outputs": [
        {
          "data": {
            "text/html": [
              "\n",
              "\n",
              "  <div id=\"df-fea9165c-c1d8-49c4-a58e-b294ecd5ac9c\">\n",
              "    <div class=\"colab-df-container\">\n",
              "      <div>\n",
              "<style scoped>\n",
              "    .dataframe tbody tr th:only-of-type {\n",
              "        vertical-align: middle;\n",
              "    }\n",
              "\n",
              "    .dataframe tbody tr th {\n",
              "        vertical-align: top;\n",
              "    }\n",
              "\n",
              "    .dataframe thead th {\n",
              "        text-align: right;\n",
              "    }\n",
              "</style>\n",
              "<table border=\"1\" class=\"dataframe\">\n",
              "  <thead>\n",
              "    <tr style=\"text-align: right;\">\n",
              "      <th>credit_risk</th>\n",
              "      <th>bad</th>\n",
              "      <th>good</th>\n",
              "    </tr>\n",
              "    <tr>\n",
              "      <th>job</th>\n",
              "      <th></th>\n",
              "      <th></th>\n",
              "    </tr>\n",
              "  </thead>\n",
              "  <tbody>\n",
              "    <tr>\n",
              "      <th>manager/self-empl./highly qualif. employee</th>\n",
              "      <td>51</td>\n",
              "      <td>97</td>\n",
              "    </tr>\n",
              "    <tr>\n",
              "      <th>skilled employee/official</th>\n",
              "      <td>186</td>\n",
              "      <td>444</td>\n",
              "    </tr>\n",
              "    <tr>\n",
              "      <th>unemployed/unskilled - non-resident</th>\n",
              "      <td>7</td>\n",
              "      <td>15</td>\n",
              "    </tr>\n",
              "    <tr>\n",
              "      <th>unskilled - resident</th>\n",
              "      <td>56</td>\n",
              "      <td>144</td>\n",
              "    </tr>\n",
              "  </tbody>\n",
              "</table>\n",
              "</div>\n",
              "      <button class=\"colab-df-convert\" onclick=\"convertToInteractive('df-fea9165c-c1d8-49c4-a58e-b294ecd5ac9c')\"\n",
              "              title=\"Convert this dataframe to an interactive table.\"\n",
              "              style=\"display:none;\">\n",
              "\n",
              "  <svg xmlns=\"http://www.w3.org/2000/svg\" height=\"24px\"viewBox=\"0 0 24 24\"\n",
              "       width=\"24px\">\n",
              "    <path d=\"M0 0h24v24H0V0z\" fill=\"none\"/>\n",
              "    <path d=\"M18.56 5.44l.94 2.06.94-2.06 2.06-.94-2.06-.94-.94-2.06-.94 2.06-2.06.94zm-11 1L8.5 8.5l.94-2.06 2.06-.94-2.06-.94L8.5 2.5l-.94 2.06-2.06.94zm10 10l.94 2.06.94-2.06 2.06-.94-2.06-.94-.94-2.06-.94 2.06-2.06.94z\"/><path d=\"M17.41 7.96l-1.37-1.37c-.4-.4-.92-.59-1.43-.59-.52 0-1.04.2-1.43.59L10.3 9.45l-7.72 7.72c-.78.78-.78 2.05 0 2.83L4 21.41c.39.39.9.59 1.41.59.51 0 1.02-.2 1.41-.59l7.78-7.78 2.81-2.81c.8-.78.8-2.07 0-2.86zM5.41 20L4 18.59l7.72-7.72 1.47 1.35L5.41 20z\"/>\n",
              "  </svg>\n",
              "      </button>\n",
              "\n",
              "\n",
              "\n",
              "    <div id=\"df-4a9a3055-42ca-4def-81ba-40d8f6ef9fd7\">\n",
              "      <button class=\"colab-df-quickchart\" onclick=\"quickchart('df-4a9a3055-42ca-4def-81ba-40d8f6ef9fd7')\"\n",
              "              title=\"Suggest charts.\"\n",
              "              style=\"display:none;\">\n",
              "\n",
              "<svg xmlns=\"http://www.w3.org/2000/svg\" height=\"24px\"viewBox=\"0 0 24 24\"\n",
              "     width=\"24px\">\n",
              "    <g>\n",
              "        <path d=\"M19 3H5c-1.1 0-2 .9-2 2v14c0 1.1.9 2 2 2h14c1.1 0 2-.9 2-2V5c0-1.1-.9-2-2-2zM9 17H7v-7h2v7zm4 0h-2V7h2v10zm4 0h-2v-4h2v4z\"/>\n",
              "    </g>\n",
              "</svg>\n",
              "      </button>\n",
              "    </div>\n",
              "\n",
              "<style>\n",
              "  .colab-df-quickchart {\n",
              "    background-color: #E8F0FE;\n",
              "    border: none;\n",
              "    border-radius: 50%;\n",
              "    cursor: pointer;\n",
              "    display: none;\n",
              "    fill: #1967D2;\n",
              "    height: 32px;\n",
              "    padding: 0 0 0 0;\n",
              "    width: 32px;\n",
              "  }\n",
              "\n",
              "  .colab-df-quickchart:hover {\n",
              "    background-color: #E2EBFA;\n",
              "    box-shadow: 0px 1px 2px rgba(60, 64, 67, 0.3), 0px 1px 3px 1px rgba(60, 64, 67, 0.15);\n",
              "    fill: #174EA6;\n",
              "  }\n",
              "\n",
              "  [theme=dark] .colab-df-quickchart {\n",
              "    background-color: #3B4455;\n",
              "    fill: #D2E3FC;\n",
              "  }\n",
              "\n",
              "  [theme=dark] .colab-df-quickchart:hover {\n",
              "    background-color: #434B5C;\n",
              "    box-shadow: 0px 1px 3px 1px rgba(0, 0, 0, 0.15);\n",
              "    filter: drop-shadow(0px 1px 2px rgba(0, 0, 0, 0.3));\n",
              "    fill: #FFFFFF;\n",
              "  }\n",
              "</style>\n",
              "\n",
              "    <script>\n",
              "      async function quickchart(key) {\n",
              "        const containerElement = document.querySelector('#' + key);\n",
              "        const charts = await google.colab.kernel.invokeFunction(\n",
              "            'suggestCharts', [key], {});\n",
              "      }\n",
              "    </script>\n",
              "\n",
              "      <script>\n",
              "\n",
              "function displayQuickchartButton(domScope) {\n",
              "  let quickchartButtonEl =\n",
              "    domScope.querySelector('#df-4a9a3055-42ca-4def-81ba-40d8f6ef9fd7 button.colab-df-quickchart');\n",
              "  quickchartButtonEl.style.display =\n",
              "    google.colab.kernel.accessAllowed ? 'block' : 'none';\n",
              "}\n",
              "\n",
              "        displayQuickchartButton(document);\n",
              "      </script>\n",
              "      <style>\n",
              "    .colab-df-container {\n",
              "      display:flex;\n",
              "      flex-wrap:wrap;\n",
              "      gap: 12px;\n",
              "    }\n",
              "\n",
              "    .colab-df-convert {\n",
              "      background-color: #E8F0FE;\n",
              "      border: none;\n",
              "      border-radius: 50%;\n",
              "      cursor: pointer;\n",
              "      display: none;\n",
              "      fill: #1967D2;\n",
              "      height: 32px;\n",
              "      padding: 0 0 0 0;\n",
              "      width: 32px;\n",
              "    }\n",
              "\n",
              "    .colab-df-convert:hover {\n",
              "      background-color: #E2EBFA;\n",
              "      box-shadow: 0px 1px 2px rgba(60, 64, 67, 0.3), 0px 1px 3px 1px rgba(60, 64, 67, 0.15);\n",
              "      fill: #174EA6;\n",
              "    }\n",
              "\n",
              "    [theme=dark] .colab-df-convert {\n",
              "      background-color: #3B4455;\n",
              "      fill: #D2E3FC;\n",
              "    }\n",
              "\n",
              "    [theme=dark] .colab-df-convert:hover {\n",
              "      background-color: #434B5C;\n",
              "      box-shadow: 0px 1px 3px 1px rgba(0, 0, 0, 0.15);\n",
              "      filter: drop-shadow(0px 1px 2px rgba(0, 0, 0, 0.3));\n",
              "      fill: #FFFFFF;\n",
              "    }\n",
              "  </style>\n",
              "\n",
              "      <script>\n",
              "        const buttonEl =\n",
              "          document.querySelector('#df-fea9165c-c1d8-49c4-a58e-b294ecd5ac9c button.colab-df-convert');\n",
              "        buttonEl.style.display =\n",
              "          google.colab.kernel.accessAllowed ? 'block' : 'none';\n",
              "\n",
              "        async function convertToInteractive(key) {\n",
              "          const element = document.querySelector('#df-fea9165c-c1d8-49c4-a58e-b294ecd5ac9c');\n",
              "          const dataTable =\n",
              "            await google.colab.kernel.invokeFunction('convertToInteractive',\n",
              "                                                     [key], {});\n",
              "          if (!dataTable) return;\n",
              "\n",
              "          const docLinkHtml = 'Like what you see? Visit the ' +\n",
              "            '<a target=\"_blank\" href=https://colab.research.google.com/notebooks/data_table.ipynb>data table notebook</a>'\n",
              "            + ' to learn more about interactive tables.';\n",
              "          element.innerHTML = '';\n",
              "          dataTable['output_type'] = 'display_data';\n",
              "          await google.colab.output.renderOutput(dataTable, element);\n",
              "          const docLink = document.createElement('div');\n",
              "          docLink.innerHTML = docLinkHtml;\n",
              "          element.appendChild(docLink);\n",
              "        }\n",
              "      </script>\n",
              "    </div>\n",
              "  </div>\n"
            ],
            "text/plain": [
              "credit_risk                                 bad  good\n",
              "job                                                  \n",
              "manager/self-empl./highly qualif. employee   51    97\n",
              "skilled employee/official                   186   444\n",
              "unemployed/unskilled - non-resident           7    15\n",
              "unskilled - resident                         56   144"
            ]
          },
          "execution_count": 22,
          "metadata": {},
          "output_type": "execute_result"
        }
      ],
      "source": [
        "bank.groupby(['job', 'credit_risk']).size().unstack()"
      ]
    },
    {
      "cell_type": "code",
      "execution_count": 23,
      "metadata": {
        "id": "ULwQT_gNNJZn"
      },
      "outputs": [],
      "source": [
        "# Logging the Data Exploratory Analysis success\n",
        "logging.info(\"Data Exploratory Analysis ended.\")"
      ]
    },
    {
      "cell_type": "markdown",
      "metadata": {
        "id": "sKEfMUfeDDti"
      },
      "source": [
        "**ANALYSIS:2**\n",
        "\n",
        "1. Skilled employees takes the highest amount of loans where the percentage of good loans are higher.\n",
        "2. Manager , Self employed or highly qualified employee have higher rate of bad loans whereas  Unskilled residents have a better rate of good loans.\n",
        "3. Most of the loans have been taken by people employed between 1 and 4 years with a significant number of good loans.\n",
        "4. People employed between 4 to 7 years have high percenatge of good loans while those below 1 year have high percentage of bad loans.\n",
        "5. Most of the loans have been taken loans for buying furnitures or some other equipments with a significant number of good loans.\n",
        "6. People have taken loans for buying new cars have best rate of returning loans while those with repairs have high percentage of bad loans.\n",
        "7. People in age-group 20-29 have taken most loans closely following with 30-39 .\n",
        "8. People in 30-39 and those above 60 have best percentage of good loans.\n",
        "\n",
        "\n",
        "\n",
        "\n",
        "\n",
        "\n",
        "\n"
      ]
    },
    {
      "cell_type": "code",
      "execution_count": 24,
      "metadata": {
        "id": "ACw_3SvwNXQW"
      },
      "outputs": [],
      "source": [
        "# Logging the Feature Extraction initiation\n",
        "logging.info(\"Feature Extraction started.\")"
      ]
    },
    {
      "cell_type": "code",
      "execution_count": 25,
      "metadata": {
        "id": "69Lh1VxQ8RoF"
      },
      "outputs": [],
      "source": [
        "from sklearn.preprocessing import LabelEncoder\n",
        "\n",
        "le = LabelEncoder()\n",
        "\n",
        "columns = bank.columns\n",
        "\n",
        "for column in columns:\n",
        "    bank[column] = le.fit_transform(bank[column])"
      ]
    },
    {
      "cell_type": "code",
      "execution_count": 26,
      "metadata": {
        "colab": {
          "base_uri": "https://localhost:8080/"
        },
        "id": "nB00rwqA5RTj",
        "outputId": "ed87d55a-7edc-4445-8c81-2247f8d66484"
      },
      "outputs": [
        {
          "name": "stdout",
          "output_type": "stream",
          "text": [
            "                    Feature        p-value\n",
            "4                    amount  4.826920e-283\n",
            "1                  duration   1.198327e-43\n",
            "12                      age   1.253929e-15\n",
            "0                    status   5.338991e-06\n",
            "2            credit_history   2.513123e-04\n",
            "5                   savings   1.031141e-03\n",
            "3                   purpose   7.095836e-03\n",
            "19           foreign_worker   1.086189e-02\n",
            "14                  housing   1.319208e-02\n",
            "8       personal_status_sex   1.491882e-02\n",
            "11                 property   7.102120e-02\n",
            "15           number_credits   1.905968e-01\n",
            "18                telephone   3.733300e-01\n",
            "16                      job   3.853131e-01\n",
            "13  other_installment_plans   4.513605e-01\n",
            "10        present_residence   6.907920e-01\n",
            "6       employment_duration   7.585851e-01\n",
            "9             other_debtors   7.695248e-01\n",
            "7          installment_rate   7.970782e-01\n",
            "17            people_liable   9.301641e-01\n"
          ]
        }
      ],
      "source": [
        "#Perform chi-square test\n",
        "from sklearn.feature_selection import chi2\n",
        "\n",
        "# Separate the features (columns) from the target variable\n",
        "X = bank.drop(['credit_risk','age_group'], axis=1)  # Remove the 'credit_risk' column from features\n",
        "Y = bank['credit_risk']  # Target variable containing credit risk labels\n",
        "\n",
        "#'age_group' is also a feature, so we can remove it from X using:\n",
        "bank = bank.drop(['age_group'], axis=1)\n",
        "\n",
        "# Apply chi-square test to calculate the chi2 statistic and p-values\n",
        "chi2_stat, p_values = chi2(X, Y)\n",
        "\n",
        "# Create a DataFrame to store the results\n",
        "result_df = pd.DataFrame({'Feature': X.columns, 'p-value': p_values})\n",
        "\n",
        "# Sort the DataFrame by p-values in ascending order\n",
        "sorted_result_df = result_df.sort_values('p-value')\n",
        "\n",
        "# Print the sorted DataFrame\n",
        "print(sorted_result_df)"
      ]
    },
    {
      "cell_type": "code",
      "execution_count": 27,
      "metadata": {
        "colab": {
          "base_uri": "https://localhost:8080/"
        },
        "id": "IxDPYFs9-A9c",
        "outputId": "ae749653-71ae-414b-85b6-e2d69c129695"
      },
      "outputs": [
        {
          "name": "stdout",
          "output_type": "stream",
          "text": [
            "                Feature        p-value\n",
            "4                amount  4.826920e-283\n",
            "1              duration   1.198327e-43\n",
            "12                  age   1.253929e-15\n",
            "0                status   5.338991e-06\n",
            "2        credit_history   2.513123e-04\n",
            "5               savings   1.031141e-03\n",
            "3               purpose   7.095836e-03\n",
            "19       foreign_worker   1.086189e-02\n",
            "14              housing   1.319208e-02\n",
            "8   personal_status_sex   1.491882e-02\n"
          ]
        }
      ],
      "source": [
        "# Filter the DataFrame for categories with p-value < 0.05\n",
        "significant_categories = sorted_result_df[sorted_result_df['p-value'] < 0.05]\n",
        "\n",
        "# Print the significant categories\n",
        "print(significant_categories)"
      ]
    },
    {
      "cell_type": "code",
      "execution_count": 28,
      "metadata": {
        "id": "8LsZiyIPNrO3"
      },
      "outputs": [],
      "source": [
        "# Logging the Feature Extraction success\n",
        "logging.info(\"Feature Extraction ended.\")"
      ]
    },
    {
      "cell_type": "markdown",
      "metadata": {
        "id": "RGpvPJ39c45x"
      },
      "source": [
        "**ANALYSIS:3**\n",
        "\n",
        "1. By performing chi-square test, we get to find that amount, duration,age,status,credit_history,savings,purpose,foreign_worker,housing,personal_status_sex have most dependencies on the target value[credit_risk]."
      ]
    },
    {
      "cell_type": "markdown",
      "metadata": {
        "id": "kPjMH23BikgH"
      },
      "source": [
        "### **3. Feature Transformation**"
      ]
    },
    {
      "cell_type": "code",
      "execution_count": 29,
      "metadata": {
        "id": "4k9TbaeUNzvx"
      },
      "outputs": [],
      "source": [
        "# Logging the Feature Transformation initiation.\n",
        "logging.info(\"Feature Transformation started.\")"
      ]
    },
    {
      "cell_type": "code",
      "execution_count": 30,
      "metadata": {
        "id": "2pneWWcDnL02"
      },
      "outputs": [],
      "source": [
        "from sklearn.preprocessing import StandardScaler\n",
        "\n",
        "scaler = StandardScaler()\n",
        "\n",
        "scaler.fit(X)\n",
        "\n",
        "std_data = scaler.transform(X)\n",
        "Y = bank[\"credit_risk\"]"
      ]
    },
    {
      "cell_type": "code",
      "execution_count": 31,
      "metadata": {
        "colab": {
          "base_uri": "https://localhost:8080/",
          "height": 270
        },
        "id": "QjA4FxZEjO7M",
        "outputId": "8bb14af8-c876-4789-a78c-2ec8ae9dea1e"
      },
      "outputs": [
        {
          "data": {
            "text/html": [
              "\n",
              "\n",
              "  <div id=\"df-0e6d7830-0b2c-497f-beff-05c05b2a82d5\">\n",
              "    <div class=\"colab-df-container\">\n",
              "      <div>\n",
              "<style scoped>\n",
              "    .dataframe tbody tr th:only-of-type {\n",
              "        vertical-align: middle;\n",
              "    }\n",
              "\n",
              "    .dataframe tbody tr th {\n",
              "        vertical-align: top;\n",
              "    }\n",
              "\n",
              "    .dataframe thead th {\n",
              "        text-align: right;\n",
              "    }\n",
              "</style>\n",
              "<table border=\"1\" class=\"dataframe\">\n",
              "  <thead>\n",
              "    <tr style=\"text-align: right;\">\n",
              "      <th></th>\n",
              "      <th>status</th>\n",
              "      <th>duration</th>\n",
              "      <th>credit_history</th>\n",
              "      <th>purpose</th>\n",
              "      <th>amount</th>\n",
              "      <th>savings</th>\n",
              "      <th>employment_duration</th>\n",
              "      <th>installment_rate</th>\n",
              "      <th>personal_status_sex</th>\n",
              "      <th>other_debtors</th>\n",
              "      <th>present_residence</th>\n",
              "      <th>property</th>\n",
              "      <th>age</th>\n",
              "      <th>other_installment_plans</th>\n",
              "      <th>housing</th>\n",
              "      <th>number_credits</th>\n",
              "      <th>job</th>\n",
              "      <th>people_liable</th>\n",
              "      <th>telephone</th>\n",
              "      <th>foreign_worker</th>\n",
              "    </tr>\n",
              "  </thead>\n",
              "  <tbody>\n",
              "    <tr>\n",
              "      <th>0</th>\n",
              "      <td>3</td>\n",
              "      <td>13</td>\n",
              "      <td>0</td>\n",
              "      <td>2</td>\n",
              "      <td>116</td>\n",
              "      <td>4</td>\n",
              "      <td>2</td>\n",
              "      <td>2</td>\n",
              "      <td>0</td>\n",
              "      <td>2</td>\n",
              "      <td>3</td>\n",
              "      <td>1</td>\n",
              "      <td>2</td>\n",
              "      <td>1</td>\n",
              "      <td>0</td>\n",
              "      <td>0</td>\n",
              "      <td>1</td>\n",
              "      <td>0</td>\n",
              "      <td>0</td>\n",
              "      <td>0</td>\n",
              "    </tr>\n",
              "    <tr>\n",
              "      <th>1</th>\n",
              "      <td>3</td>\n",
              "      <td>5</td>\n",
              "      <td>0</td>\n",
              "      <td>5</td>\n",
              "      <td>528</td>\n",
              "      <td>4</td>\n",
              "      <td>0</td>\n",
              "      <td>1</td>\n",
              "      <td>3</td>\n",
              "      <td>2</td>\n",
              "      <td>0</td>\n",
              "      <td>3</td>\n",
              "      <td>17</td>\n",
              "      <td>1</td>\n",
              "      <td>0</td>\n",
              "      <td>1</td>\n",
              "      <td>1</td>\n",
              "      <td>1</td>\n",
              "      <td>0</td>\n",
              "      <td>0</td>\n",
              "    </tr>\n",
              "    <tr>\n",
              "      <th>2</th>\n",
              "      <td>0</td>\n",
              "      <td>8</td>\n",
              "      <td>4</td>\n",
              "      <td>8</td>\n",
              "      <td>72</td>\n",
              "      <td>0</td>\n",
              "      <td>1</td>\n",
              "      <td>1</td>\n",
              "      <td>0</td>\n",
              "      <td>2</td>\n",
              "      <td>3</td>\n",
              "      <td>3</td>\n",
              "      <td>4</td>\n",
              "      <td>1</td>\n",
              "      <td>0</td>\n",
              "      <td>0</td>\n",
              "      <td>3</td>\n",
              "      <td>0</td>\n",
              "      <td>0</td>\n",
              "      <td>0</td>\n",
              "    </tr>\n",
              "    <tr>\n",
              "      <th>3</th>\n",
              "      <td>3</td>\n",
              "      <td>8</td>\n",
              "      <td>0</td>\n",
              "      <td>5</td>\n",
              "      <td>398</td>\n",
              "      <td>4</td>\n",
              "      <td>0</td>\n",
              "      <td>0</td>\n",
              "      <td>3</td>\n",
              "      <td>2</td>\n",
              "      <td>0</td>\n",
              "      <td>3</td>\n",
              "      <td>20</td>\n",
              "      <td>1</td>\n",
              "      <td>0</td>\n",
              "      <td>1</td>\n",
              "      <td>3</td>\n",
              "      <td>1</td>\n",
              "      <td>0</td>\n",
              "      <td>1</td>\n",
              "    </tr>\n",
              "    <tr>\n",
              "      <th>4</th>\n",
              "      <td>3</td>\n",
              "      <td>8</td>\n",
              "      <td>0</td>\n",
              "      <td>5</td>\n",
              "      <td>411</td>\n",
              "      <td>4</td>\n",
              "      <td>0</td>\n",
              "      <td>2</td>\n",
              "      <td>3</td>\n",
              "      <td>2</td>\n",
              "      <td>3</td>\n",
              "      <td>1</td>\n",
              "      <td>19</td>\n",
              "      <td>0</td>\n",
              "      <td>2</td>\n",
              "      <td>1</td>\n",
              "      <td>3</td>\n",
              "      <td>0</td>\n",
              "      <td>0</td>\n",
              "      <td>1</td>\n",
              "    </tr>\n",
              "  </tbody>\n",
              "</table>\n",
              "</div>\n",
              "      <button class=\"colab-df-convert\" onclick=\"convertToInteractive('df-0e6d7830-0b2c-497f-beff-05c05b2a82d5')\"\n",
              "              title=\"Convert this dataframe to an interactive table.\"\n",
              "              style=\"display:none;\">\n",
              "\n",
              "  <svg xmlns=\"http://www.w3.org/2000/svg\" height=\"24px\"viewBox=\"0 0 24 24\"\n",
              "       width=\"24px\">\n",
              "    <path d=\"M0 0h24v24H0V0z\" fill=\"none\"/>\n",
              "    <path d=\"M18.56 5.44l.94 2.06.94-2.06 2.06-.94-2.06-.94-.94-2.06-.94 2.06-2.06.94zm-11 1L8.5 8.5l.94-2.06 2.06-.94-2.06-.94L8.5 2.5l-.94 2.06-2.06.94zm10 10l.94 2.06.94-2.06 2.06-.94-2.06-.94-.94-2.06-.94 2.06-2.06.94z\"/><path d=\"M17.41 7.96l-1.37-1.37c-.4-.4-.92-.59-1.43-.59-.52 0-1.04.2-1.43.59L10.3 9.45l-7.72 7.72c-.78.78-.78 2.05 0 2.83L4 21.41c.39.39.9.59 1.41.59.51 0 1.02-.2 1.41-.59l7.78-7.78 2.81-2.81c.8-.78.8-2.07 0-2.86zM5.41 20L4 18.59l7.72-7.72 1.47 1.35L5.41 20z\"/>\n",
              "  </svg>\n",
              "      </button>\n",
              "\n",
              "\n",
              "\n",
              "    <div id=\"df-3d091a67-6dd0-4e8b-8f53-5d9fc2bb1f08\">\n",
              "      <button class=\"colab-df-quickchart\" onclick=\"quickchart('df-3d091a67-6dd0-4e8b-8f53-5d9fc2bb1f08')\"\n",
              "              title=\"Suggest charts.\"\n",
              "              style=\"display:none;\">\n",
              "\n",
              "<svg xmlns=\"http://www.w3.org/2000/svg\" height=\"24px\"viewBox=\"0 0 24 24\"\n",
              "     width=\"24px\">\n",
              "    <g>\n",
              "        <path d=\"M19 3H5c-1.1 0-2 .9-2 2v14c0 1.1.9 2 2 2h14c1.1 0 2-.9 2-2V5c0-1.1-.9-2-2-2zM9 17H7v-7h2v7zm4 0h-2V7h2v10zm4 0h-2v-4h2v4z\"/>\n",
              "    </g>\n",
              "</svg>\n",
              "      </button>\n",
              "    </div>\n",
              "\n",
              "<style>\n",
              "  .colab-df-quickchart {\n",
              "    background-color: #E8F0FE;\n",
              "    border: none;\n",
              "    border-radius: 50%;\n",
              "    cursor: pointer;\n",
              "    display: none;\n",
              "    fill: #1967D2;\n",
              "    height: 32px;\n",
              "    padding: 0 0 0 0;\n",
              "    width: 32px;\n",
              "  }\n",
              "\n",
              "  .colab-df-quickchart:hover {\n",
              "    background-color: #E2EBFA;\n",
              "    box-shadow: 0px 1px 2px rgba(60, 64, 67, 0.3), 0px 1px 3px 1px rgba(60, 64, 67, 0.15);\n",
              "    fill: #174EA6;\n",
              "  }\n",
              "\n",
              "  [theme=dark] .colab-df-quickchart {\n",
              "    background-color: #3B4455;\n",
              "    fill: #D2E3FC;\n",
              "  }\n",
              "\n",
              "  [theme=dark] .colab-df-quickchart:hover {\n",
              "    background-color: #434B5C;\n",
              "    box-shadow: 0px 1px 3px 1px rgba(0, 0, 0, 0.15);\n",
              "    filter: drop-shadow(0px 1px 2px rgba(0, 0, 0, 0.3));\n",
              "    fill: #FFFFFF;\n",
              "  }\n",
              "</style>\n",
              "\n",
              "    <script>\n",
              "      async function quickchart(key) {\n",
              "        const containerElement = document.querySelector('#' + key);\n",
              "        const charts = await google.colab.kernel.invokeFunction(\n",
              "            'suggestCharts', [key], {});\n",
              "      }\n",
              "    </script>\n",
              "\n",
              "      <script>\n",
              "\n",
              "function displayQuickchartButton(domScope) {\n",
              "  let quickchartButtonEl =\n",
              "    domScope.querySelector('#df-3d091a67-6dd0-4e8b-8f53-5d9fc2bb1f08 button.colab-df-quickchart');\n",
              "  quickchartButtonEl.style.display =\n",
              "    google.colab.kernel.accessAllowed ? 'block' : 'none';\n",
              "}\n",
              "\n",
              "        displayQuickchartButton(document);\n",
              "      </script>\n",
              "      <style>\n",
              "    .colab-df-container {\n",
              "      display:flex;\n",
              "      flex-wrap:wrap;\n",
              "      gap: 12px;\n",
              "    }\n",
              "\n",
              "    .colab-df-convert {\n",
              "      background-color: #E8F0FE;\n",
              "      border: none;\n",
              "      border-radius: 50%;\n",
              "      cursor: pointer;\n",
              "      display: none;\n",
              "      fill: #1967D2;\n",
              "      height: 32px;\n",
              "      padding: 0 0 0 0;\n",
              "      width: 32px;\n",
              "    }\n",
              "\n",
              "    .colab-df-convert:hover {\n",
              "      background-color: #E2EBFA;\n",
              "      box-shadow: 0px 1px 2px rgba(60, 64, 67, 0.3), 0px 1px 3px 1px rgba(60, 64, 67, 0.15);\n",
              "      fill: #174EA6;\n",
              "    }\n",
              "\n",
              "    [theme=dark] .colab-df-convert {\n",
              "      background-color: #3B4455;\n",
              "      fill: #D2E3FC;\n",
              "    }\n",
              "\n",
              "    [theme=dark] .colab-df-convert:hover {\n",
              "      background-color: #434B5C;\n",
              "      box-shadow: 0px 1px 3px 1px rgba(0, 0, 0, 0.15);\n",
              "      filter: drop-shadow(0px 1px 2px rgba(0, 0, 0, 0.3));\n",
              "      fill: #FFFFFF;\n",
              "    }\n",
              "  </style>\n",
              "\n",
              "      <script>\n",
              "        const buttonEl =\n",
              "          document.querySelector('#df-0e6d7830-0b2c-497f-beff-05c05b2a82d5 button.colab-df-convert');\n",
              "        buttonEl.style.display =\n",
              "          google.colab.kernel.accessAllowed ? 'block' : 'none';\n",
              "\n",
              "        async function convertToInteractive(key) {\n",
              "          const element = document.querySelector('#df-0e6d7830-0b2c-497f-beff-05c05b2a82d5');\n",
              "          const dataTable =\n",
              "            await google.colab.kernel.invokeFunction('convertToInteractive',\n",
              "                                                     [key], {});\n",
              "          if (!dataTable) return;\n",
              "\n",
              "          const docLinkHtml = 'Like what you see? Visit the ' +\n",
              "            '<a target=\"_blank\" href=https://colab.research.google.com/notebooks/data_table.ipynb>data table notebook</a>'\n",
              "            + ' to learn more about interactive tables.';\n",
              "          element.innerHTML = '';\n",
              "          dataTable['output_type'] = 'display_data';\n",
              "          await google.colab.output.renderOutput(dataTable, element);\n",
              "          const docLink = document.createElement('div');\n",
              "          docLink.innerHTML = docLinkHtml;\n",
              "          element.appendChild(docLink);\n",
              "        }\n",
              "      </script>\n",
              "    </div>\n",
              "  </div>\n"
            ],
            "text/plain": [
              "   status  duration  credit_history  purpose  amount  savings  \\\n",
              "0       3        13               0        2     116        4   \n",
              "1       3         5               0        5     528        4   \n",
              "2       0         8               4        8      72        0   \n",
              "3       3         8               0        5     398        4   \n",
              "4       3         8               0        5     411        4   \n",
              "\n",
              "   employment_duration  installment_rate  personal_status_sex  other_debtors  \\\n",
              "0                    2                 2                    0              2   \n",
              "1                    0                 1                    3              2   \n",
              "2                    1                 1                    0              2   \n",
              "3                    0                 0                    3              2   \n",
              "4                    0                 2                    3              2   \n",
              "\n",
              "   present_residence  property  age  other_installment_plans  housing  \\\n",
              "0                  3         1    2                        1        0   \n",
              "1                  0         3   17                        1        0   \n",
              "2                  3         3    4                        1        0   \n",
              "3                  0         3   20                        1        0   \n",
              "4                  3         1   19                        0        2   \n",
              "\n",
              "   number_credits  job  people_liable  telephone  foreign_worker  \n",
              "0               0    1              0          0               0  \n",
              "1               1    1              1          0               0  \n",
              "2               0    3              0          0               0  \n",
              "3               1    3              1          0               1  \n",
              "4               1    3              0          0               1  "
            ]
          },
          "execution_count": 31,
          "metadata": {},
          "output_type": "execute_result"
        }
      ],
      "source": [
        "X.head()"
      ]
    },
    {
      "cell_type": "code",
      "execution_count": 32,
      "metadata": {
        "colab": {
          "base_uri": "https://localhost:8080/"
        },
        "id": "Ju77P1D6jI6N",
        "outputId": "32ad19a6-af0d-4f69-d96a-726e523838de"
      },
      "outputs": [
        {
          "data": {
            "text/plain": [
              "(1000, 20)"
            ]
          },
          "execution_count": 32,
          "metadata": {},
          "output_type": "execute_result"
        }
      ],
      "source": [
        "X.shape"
      ]
    },
    {
      "cell_type": "code",
      "execution_count": 33,
      "metadata": {
        "id": "rvyX8mRwXgWC"
      },
      "outputs": [],
      "source": [
        "# Logging the Feature Transformation success\n",
        "logging.info(\"Feature Transformation ended.\")"
      ]
    },
    {
      "cell_type": "markdown",
      "metadata": {
        "id": "g7itRZTwixg4"
      },
      "source": [
        "### **4. Model Training And Evaluation**"
      ]
    },
    {
      "cell_type": "code",
      "execution_count": 34,
      "metadata": {
        "id": "U7PeMEobOGw-"
      },
      "outputs": [],
      "source": [
        "# Logging the Initial Model Training and Evaluation initiation\n",
        "logging.info(\"Initial Model Training and Evaluation Started.\")"
      ]
    },
    {
      "cell_type": "code",
      "execution_count": 35,
      "metadata": {
        "id": "w3moDSN9Kqqk"
      },
      "outputs": [],
      "source": [
        "from sklearn.model_selection import train_test_split\n",
        "\n",
        "x_train,x_test,y_train,y_test = train_test_split(std_data,Y,test_size=0.2,random_state=1)"
      ]
    },
    {
      "cell_type": "markdown",
      "metadata": {
        "id": "QQxH1h91C-fP"
      },
      "source": [
        "**1. Support Vector Machine**"
      ]
    },
    {
      "cell_type": "code",
      "execution_count": 36,
      "metadata": {
        "id": "0z9P6TuBOUro"
      },
      "outputs": [],
      "source": [
        "# Logging the Support Vector Machine Model Training\n",
        "logging.info(\"Support Vector Machine Model Training Started.\")"
      ]
    },
    {
      "cell_type": "code",
      "execution_count": 37,
      "metadata": {
        "colab": {
          "base_uri": "https://localhost:8080/"
        },
        "id": "-4VSKR_iqyNx",
        "outputId": "0f5c5dba-218b-4c32-e9c6-87cf48df923e"
      },
      "outputs": [
        {
          "name": "stdout",
          "output_type": "stream",
          "text": [
            "Accuracy Score of Training Data:- 0.82125\n",
            "F1 score of Training Data:- 0.8836452400325467\n",
            "-----------------------------\n",
            "Accuracy Score of Testing Data:- 0.735\n",
            "F1 score of Testing Data:- 0.8273615635179152\n"
          ]
        }
      ],
      "source": [
        "from sklearn.svm import SVC\n",
        "from sklearn.metrics import accuracy_score,f1_score\n",
        "\n",
        "model = SVC(C=10,gamma=0.01,kernel='rbf')\n",
        "\n",
        "model.fit(x_train,y_train)\n",
        "\n",
        "pred1 = model.predict(x_train)\n",
        "acc1 = accuracy_score(y_train,pred1)\n",
        "f1_sc1 = f1_score(y_train,pred1)\n",
        "print(\"Accuracy Score of Training Data:-\",acc1)\n",
        "print(\"F1 score of Training Data:-\",f1_sc1)\n",
        "\n",
        "print(\"-----------------------------\")\n",
        "\n",
        "pred2 = model.predict(x_test)\n",
        "acc2 = accuracy_score(y_test,pred2)\n",
        "f1_sc2 = f1_score(y_test,pred2)\n",
        "print(\"Accuracy Score of Testing Data:-\",acc2)\n",
        "print(\"F1 score of Testing Data:-\",f1_sc2)"
      ]
    },
    {
      "cell_type": "markdown",
      "metadata": {
        "id": "HC1IRwryg4px"
      },
      "source": [
        "**2. XGBClassifier**"
      ]
    },
    {
      "cell_type": "code",
      "execution_count": 38,
      "metadata": {
        "id": "7lbcQt2pSLc1"
      },
      "outputs": [],
      "source": [
        "# Logging the XGBClassifier Model Training\n",
        "logging.info(\"XGBClassifier Model Training Started.\")"
      ]
    },
    {
      "cell_type": "code",
      "execution_count": 39,
      "metadata": {
        "colab": {
          "base_uri": "https://localhost:8080/"
        },
        "id": "byaWyXjIfI75",
        "outputId": "18d211fb-f7f8-4b99-ba71-b5e8648e0103"
      },
      "outputs": [
        {
          "name": "stdout",
          "output_type": "stream",
          "text": [
            "Accuracy Score of Training Data:- 1.0\n",
            "F1 score of Training Data:- 1.0\n",
            "-----------------------------\n",
            "Accuracy Score of Testing Data:- 0.71\n",
            "F1 score of Testing Data:- 0.8040540540540541\n"
          ]
        }
      ],
      "source": [
        "from xgboost import XGBClassifier\n",
        "\n",
        "classifier = XGBClassifier()\n",
        "\n",
        "classifier.fit(x_train,y_train)\n",
        "\n",
        "pred1 = classifier.predict(x_train)\n",
        "acc1 = accuracy_score(y_train,pred1)\n",
        "f1_sc1 = f1_score(y_train,pred1)\n",
        "print(\"Accuracy Score of Training Data:-\",acc1)\n",
        "print(\"F1 score of Training Data:-\",f1_sc1)\n",
        "\n",
        "print(\"-----------------------------\")\n",
        "\n",
        "pred2 = classifier.predict(x_test)\n",
        "acc2 = accuracy_score(y_test,pred2)\n",
        "f1_sc2 = f1_score(y_test,pred2)\n",
        "print(\"Accuracy Score of Testing Data:-\",acc2)\n",
        "print(\"F1 score of Testing Data:-\",f1_sc2)"
      ]
    },
    {
      "cell_type": "markdown",
      "metadata": {
        "id": "MCfon4QSBTlJ"
      },
      "source": [
        "**3. Logistic Regression**"
      ]
    },
    {
      "cell_type": "code",
      "execution_count": 40,
      "metadata": {
        "id": "idG-zyVpSPvz"
      },
      "outputs": [],
      "source": [
        "# Logging the Logistic Regression Model Training\n",
        "logging.info(\"Logistic Regression Model Training Started.\")"
      ]
    },
    {
      "cell_type": "code",
      "execution_count": 41,
      "metadata": {
        "colab": {
          "base_uri": "https://localhost:8080/"
        },
        "id": "jpuwqROnBRwN",
        "outputId": "b2418717-456c-4796-af1b-f8e3644766f9"
      },
      "outputs": [
        {
          "name": "stdout",
          "output_type": "stream",
          "text": [
            "Accuracy Score of Training Data:- 0.72875\n",
            "F1 score of Training Data:- 0.824575586095392\n",
            "-----------------------------\n",
            "Accuracy Score of Testing Data:- 0.72\n",
            "F1 score of Testing Data:- 0.8157894736842106\n"
          ]
        }
      ],
      "source": [
        "from sklearn.linear_model import LogisticRegression\n",
        "\n",
        "logic = LogisticRegression()\n",
        "\n",
        "logic.fit(x_train,y_train)\n",
        "\n",
        "pred1 = logic.predict(x_train)\n",
        "acc1 = accuracy_score(y_train,pred1)\n",
        "f1_sc1 = f1_score(y_train,pred1)\n",
        "print(\"Accuracy Score of Training Data:-\",acc1)\n",
        "print(\"F1 score of Training Data:-\",f1_sc1)\n",
        "\n",
        "print(\"-----------------------------\")\n",
        "\n",
        "pred2 = logic.predict(x_test)\n",
        "acc2 = accuracy_score(y_test,pred2)\n",
        "f1_sc2 = f1_score(y_test,pred2)\n",
        "print(\"Accuracy Score of Testing Data:-\",acc2)\n",
        "print(\"F1 score of Testing Data:-\",f1_sc2)"
      ]
    },
    {
      "cell_type": "markdown",
      "metadata": {
        "id": "J24LIFas1oVy"
      },
      "source": [
        "**4. Random Forest Classifier**"
      ]
    },
    {
      "cell_type": "code",
      "execution_count": 42,
      "metadata": {
        "id": "QWXugAQTSW9t"
      },
      "outputs": [],
      "source": [
        "# Logging the Random Forest Classifier Model Training\n",
        "logging.info(\"Random Forest Classifier Model Training Started.\")"
      ]
    },
    {
      "cell_type": "code",
      "execution_count": 43,
      "metadata": {
        "colab": {
          "base_uri": "https://localhost:8080/"
        },
        "id": "3rhjB-3K1m-Q",
        "outputId": "8402518b-46c6-463a-815e-16e44a83364b"
      },
      "outputs": [
        {
          "name": "stdout",
          "output_type": "stream",
          "text": [
            "Accuracy Score of Training Data with Random Forest: 1.0\n",
            "F1 score of Training Data with Random Forest: 1.0\n",
            "Accuracy Score of Testing Data with Random Forest: 0.745\n",
            "F1 score of Testing Data with Random Forest: 0.8316831683168316\n"
          ]
        }
      ],
      "source": [
        "from sklearn.ensemble import RandomForestClassifier\n",
        "\n",
        "# Create the Random Forest model\n",
        "rf_classifier = RandomForestClassifier()\n",
        "\n",
        "# Fit the Random Forest model to the training data\n",
        "rf_classifier.fit(x_train, y_train)\n",
        "\n",
        "# Predict on the training data\n",
        "rf_pred1 = rf_classifier.predict(x_train)\n",
        "rf_acc1 = accuracy_score(y_train, rf_pred1)\n",
        "rf_f1_sc1 = f1_score(y_train, rf_pred1)\n",
        "print(\"Accuracy Score of Training Data with Random Forest:\", rf_acc1)\n",
        "print(\"F1 score of Training Data with Random Forest:\", rf_f1_sc1)\n",
        "\n",
        "# Predict on the testing data\n",
        "rf_pred2 = rf_classifier.predict(x_test)\n",
        "rf_acc2 = accuracy_score(y_test, rf_pred2)\n",
        "rf_f1_sc2 = f1_score(y_test, rf_pred2)\n",
        "print(\"Accuracy Score of Testing Data with Random Forest:\", rf_acc2)\n",
        "print(\"F1 score of Testing Data with Random Forest:\", rf_f1_sc2)"
      ]
    },
    {
      "cell_type": "markdown",
      "metadata": {
        "id": "dNSYDmy4DnJI"
      },
      "source": [
        "**5. Gradient Boosting Classifier**"
      ]
    },
    {
      "cell_type": "code",
      "execution_count": 44,
      "metadata": {
        "id": "n434jr0G9nfc"
      },
      "outputs": [],
      "source": [
        "# Logging the Gradient Boosting Classifier Model Training\n",
        "logging.info(\"Gradient Boosting Classifier Model Training Started.\")"
      ]
    },
    {
      "cell_type": "code",
      "execution_count": 45,
      "metadata": {
        "colab": {
          "base_uri": "https://localhost:8080/"
        },
        "id": "phksSug09jLQ",
        "outputId": "eb9ce424-3c41-48d6-a0dc-b308acde7424"
      },
      "outputs": [
        {
          "name": "stdout",
          "output_type": "stream",
          "text": [
            "Accuracy Score of Training Data with Gradient Boosting: 0.89375\n",
            "F1 score of Training Data with Gradient Boosting: 0.927038626609442\n",
            "Accuracy Score of Testing Data with Gradient Boosting: 0.765\n",
            "F1 score of Testing Data with Gradient Boosting: 0.8406779661016949\n"
          ]
        }
      ],
      "source": [
        "from sklearn.ensemble import GradientBoostingClassifier\n",
        "\n",
        "# Create the Gradient Boosting model\n",
        "gb_classifier = GradientBoostingClassifier()\n",
        "\n",
        "# Fit the Gradient Boosting model to the training data\n",
        "gb_classifier.fit(x_train, y_train)\n",
        "\n",
        "# Predict on the training data\n",
        "gb_pred1 = gb_classifier.predict(x_train)\n",
        "gb_acc1 = accuracy_score(y_train, gb_pred1)\n",
        "gb_f1_sc1 = f1_score(y_train, gb_pred1)\n",
        "print(\"Accuracy Score of Training Data with Gradient Boosting:\", gb_acc1)\n",
        "print(\"F1 score of Training Data with Gradient Boosting:\", gb_f1_sc1)\n",
        "\n",
        "# Predict on the testing data\n",
        "gb_pred2 = gb_classifier.predict(x_test)\n",
        "gb_acc2 = accuracy_score(y_test, gb_pred2)\n",
        "gb_f1_sc2 = f1_score(y_test, gb_pred2)\n",
        "print(\"Accuracy Score of Testing Data with Gradient Boosting:\", gb_acc2)\n",
        "print(\"F1 score of Testing Data with Gradient Boosting:\", gb_f1_sc2)"
      ]
    },
    {
      "cell_type": "code",
      "execution_count": 46,
      "metadata": {
        "id": "TUIOK-5yTa_a"
      },
      "outputs": [],
      "source": [
        "# Logging the Initial Model Training and Evaluation success\n",
        "logging.info(\"Initial Model Training and Evaluation Ended.\")"
      ]
    },
    {
      "cell_type": "markdown",
      "metadata": {
        "id": "6k3fJL3mS-06"
      },
      "source": [
        "### **5. Hyperparameter Tuning and Final Model Evaluation**"
      ]
    },
    {
      "cell_type": "code",
      "execution_count": 47,
      "metadata": {
        "id": "Pn0WQRLpTdct"
      },
      "outputs": [],
      "source": [
        "# Logging the Hyperparameter Tuning and Final Model Evaluation initiation\n",
        "logging.info(\"Hyperparameter Tuning and Final Model Evaluation Started.\")"
      ]
    },
    {
      "cell_type": "markdown",
      "metadata": {
        "id": "b-zlwdr1D7qH"
      },
      "source": [
        "**Stacking Classifier Model**"
      ]
    },
    {
      "cell_type": "code",
      "execution_count": 48,
      "metadata": {
        "id": "QMTWSROASqpf"
      },
      "outputs": [],
      "source": [
        "# Logging the Stacking Classifier Model Training\n",
        "logging.info(\"Stacking Classifier Model Training Started.\")"
      ]
    },
    {
      "cell_type": "code",
      "execution_count": 49,
      "metadata": {
        "colab": {
          "base_uri": "https://localhost:8080/"
        },
        "id": "zWPdWe1S16cR",
        "outputId": "034d83e7-deb3-410a-aa8d-de53d21ad7ca"
      },
      "outputs": [
        {
          "name": "stdout",
          "output_type": "stream",
          "text": [
            "Accuracy Score of Training Data with Stacking: 1.0\n",
            "F1 score of Training Data with Stacking: 1.0\n",
            "Accuracy Score of Testing Data with Stacking: 0.74\n",
            "F1 score of Testing Data with Stacking: 0.8278145695364238\n"
          ]
        }
      ],
      "source": [
        "from sklearn.ensemble import StackingClassifier\n",
        "from sklearn.linear_model import LogisticRegression\n",
        "\n",
        "# Define the estimators for stacking\n",
        "estimators = [\n",
        "    ('svm', model),\n",
        "    ('xgboost', classifier),\n",
        "    ('logistic', LogisticRegression())\n",
        "]\n",
        "\n",
        "# Create the Stacking model\n",
        "stacking_classifier = StackingClassifier(estimators=estimators, final_estimator=LogisticRegression())\n",
        "\n",
        "# Fit the Stacking model to the training data\n",
        "stacking_classifier.fit(x_train, y_train)\n",
        "\n",
        "# Predict on the training data\n",
        "stacking_pred1 = stacking_classifier.predict(x_train)\n",
        "stacking_acc1 = accuracy_score(y_train, stacking_pred1)\n",
        "stacking_f1_sc1 = f1_score(y_train, stacking_pred1)\n",
        "print(\"Accuracy Score of Training Data with Stacking:\", stacking_acc1)\n",
        "print(\"F1 score of Training Data with Stacking:\", stacking_f1_sc1)\n",
        "\n",
        "# Predict on the testing data\n",
        "stacking_pred2 = stacking_classifier.predict(x_test)\n",
        "stacking_acc2 = accuracy_score(y_test, stacking_pred2)\n",
        "stacking_f1_sc2 = f1_score(y_test, stacking_pred2)\n",
        "print(\"Accuracy Score of Testing Data with Stacking:\", stacking_acc2)\n",
        "print(\"F1 score of Testing Data with Stacking:\", stacking_f1_sc2)\n"
      ]
    },
    {
      "cell_type": "markdown",
      "metadata": {
        "id": "sbIg-vCtHKxf"
      },
      "source": [
        "**Overall Gradient boosting classifier performed the best\n",
        "in case of model accuracy and f1_score ,\n",
        "so we will proceed with that.**"
      ]
    },
    {
      "cell_type": "code",
      "execution_count": 50,
      "metadata": {
        "id": "i_FzJe6UTnjK"
      },
      "outputs": [],
      "source": [
        "# Logging the Hyperparameter Tuning and Final Model Evaluation success\n",
        "logging.info(\"Hyperparameter Tuning and Final Model Evaluation Ended.\")"
      ]
    },
    {
      "cell_type": "code",
      "execution_count": 51,
      "metadata": {
        "id": "w8mUe8NSTBgJ"
      },
      "outputs": [],
      "source": [
        "# Logging the File pickling initiation\n",
        "logging.info(\"File pickling Started.\")"
      ]
    },
    {
      "cell_type": "code",
      "execution_count": 52,
      "metadata": {
        "id": "nIwMelYeF5jU"
      },
      "outputs": [],
      "source": [
        "import pickle\n",
        "\n",
        "# Pickle the Support Vector Machine (SVM) model\n",
        "with open('svm_model.pkl', 'wb') as f:\n",
        "  pickle.dump(model, f)\n",
        "\n",
        "# Pickle the XGBoost Classifier model\n",
        "with open('xgb_model.pkl', 'wb') as f:\n",
        "  pickle.dump(classifier, f)\n",
        "\n",
        "# Pickle the Logistic Regression model\n",
        "with open('logistic_model.pkl', 'wb') as f:\n",
        "  pickle.dump(logic, f)\n",
        "\n",
        "# Pickle the Random Forest Classifier model\n",
        "with open('rf_model.pkl', 'wb') as f:\n",
        "  pickle.dump(rf_classifier, f)\n",
        "\n",
        "# Pickle the Gradient Boosting Classifier model\n",
        "with open('gb_model.pkl', 'wb') as f:\n",
        "  pickle.dump(gb_classifier, f)\n",
        "\n",
        "# Pickle the Stacking Classifier model\n",
        "with open('stacking_model.pkl', 'wb') as f:\n",
        "  pickle.dump(stacking_classifier, f)"
      ]
    },
    {
      "cell_type": "code",
      "execution_count": 53,
      "metadata": {
        "colab": {
          "base_uri": "https://localhost:8080/"
        },
        "id": "5cAFL9if7yXg",
        "outputId": "f02ba627-7c01-4128-b219-17acdbe8427c"
      },
      "outputs": [
        {
          "name": "stdout",
          "output_type": "stream",
          "text": [
            "Model Type: <class 'sklearn.ensemble._gb.GradientBoostingClassifier'>\n",
            "Number of Features Expected by Model: 20\n"
          ]
        }
      ],
      "source": [
        "filename = \"ineuron_bank\"\n",
        "pickle.dump(gb_classifier, open(filename, 'wb'))\n",
        "loaded_model = pickle.load(open(\"ineuron_bank\",\"rb\"))\n",
        "\n",
        "# Example: Check model type and number of features\n",
        "print(\"Model Type:\", type(loaded_model))\n",
        "print(\"Number of Features Expected by Model:\", loaded_model.n_features_in_)"
      ]
    },
    {
      "cell_type": "code",
      "execution_count": 54,
      "metadata": {
        "colab": {
          "base_uri": "https://localhost:8080/"
        },
        "id": "Ul4F72RQ8BXc",
        "outputId": "8bdcbea9-9add-4a3c-ed70-9685d8c1dee1"
      },
      "outputs": [
        {
          "name": "stdout",
          "output_type": "stream",
          "text": [
            "Scaler Type: <class 'sklearn.preprocessing._data.StandardScaler'>\n",
            "Scaler Parameters: {'copy': True, 'with_mean': True, 'with_std': True}\n"
          ]
        }
      ],
      "source": [
        "pickle.dump(scaler,open('scaling','wb'))\n",
        "scaler = pickle.load(open('scaling', 'rb'))\n",
        "\n",
        "# Example: Check the scaler type and its properties\n",
        "print(\"Scaler Type:\", type(scaler))\n",
        "print(\"Scaler Parameters:\", scaler.get_params())"
      ]
    },
    {
      "cell_type": "code",
      "execution_count": 55,
      "metadata": {
        "id": "saayHEFaWm2g"
      },
      "outputs": [],
      "source": [
        "# Logging the end of the script\n",
        "logging.info(\"Ending the german credit risk analysis script.\")"
      ]
    },
    {
      "cell_type": "code",
      "execution_count": 55,
      "metadata": {
        "id": "OXOdBHtcHgVX"
      },
      "outputs": [],
      "source": []
    }
  ],
  "metadata": {
    "colab": {
      "provenance": []
    },
    "kernelspec": {
      "display_name": "Python 3",
      "name": "python3"
    },
    "language_info": {
      "name": "python",
      "version": "3.8.0"
    }
  },
  "nbformat": 4,
  "nbformat_minor": 0
}
